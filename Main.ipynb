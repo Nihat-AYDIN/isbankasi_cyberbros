{
 "cells": [
  {
   "cell_type": "code",
   "execution_count": 1,
   "id": "initial_id",
   "metadata": {
    "ExecuteTime": {
     "end_time": "2023-09-28T15:40:34.365416700Z",
     "start_time": "2023-09-28T15:40:31.652225400Z"
    },
    "collapsed": true
   },
   "outputs": [],
   "source": [
    "import pandas as pd\n",
    "import numpy as np\n",
    "import matplotlib.pyplot as plt"
   ]
  },
  {
   "cell_type": "code",
   "execution_count": 2,
   "id": "f2c760fb",
   "metadata": {},
   "outputs": [],
   "source": [
    "from sklearn.preprocessing import LabelBinarizer"
   ]
  },
  {
   "cell_type": "code",
   "execution_count": 3,
   "id": "2809d22560706290",
   "metadata": {
    "ExecuteTime": {
     "end_time": "2023-09-28T15:27:06.830595400Z",
     "start_time": "2023-09-28T15:26:39.949233Z"
    },
    "collapsed": false
   },
   "outputs": [
    {
     "name": "stdout",
     "output_type": "stream",
     "text": [
      "Collecting pyarrow\n",
      "  Using cached pyarrow-13.0.0-cp310-cp310-win_amd64.whl (24.3 MB)\n",
      "Requirement already satisfied: numpy>=1.16.6 in c:\\users\\aydin\\appdata\\local\\packages\\pythonsoftwarefoundation.python.3.10_qbz5n2kfra8p0\\localcache\\local-packages\\python310\\site-packages (from pyarrow) (1.23.5)\n",
      "Installing collected packages: pyarrow\n",
      "Successfully installed pyarrow-13.0.0\n"
     ]
    },
    {
     "name": "stderr",
     "output_type": "stream",
     "text": [
      "\n",
      "[notice] A new release of pip is available: 23.0.1 -> 23.2.1\n",
      "[notice] To update, run: C:\\Users\\aydin\\AppData\\Local\\Microsoft\\WindowsApps\\PythonSoftwareFoundation.Python.3.10_qbz5n2kfra8p0\\python.exe -m pip install --upgrade pip\n"
     ]
    }
   ],
   "source": [
    "# !pip install pyarrow"
   ]
  },
  {
   "cell_type": "code",
   "execution_count": 4,
   "id": "67985d767a948341",
   "metadata": {
    "ExecuteTime": {
     "end_time": "2023-09-28T15:27:18.256145400Z",
     "start_time": "2023-09-28T15:27:11.255860500Z"
    },
    "collapsed": false
   },
   "outputs": [
    {
     "name": "stdout",
     "output_type": "stream",
     "text": [
      "Collecting fastparquet\n",
      "  Using cached fastparquet-2023.8.0-cp310-cp310-win_amd64.whl (715 kB)\n",
      "Collecting cramjam>=2.3\n",
      "  Using cached cramjam-2.7.0-cp310-none-win_amd64.whl (1.3 MB)\n",
      "Collecting fsspec\n",
      "  Using cached fsspec-2023.9.2-py3-none-any.whl (173 kB)\n",
      "Requirement already satisfied: packaging in c:\\users\\aydin\\appdata\\local\\packages\\pythonsoftwarefoundation.python.3.10_qbz5n2kfra8p0\\localcache\\local-packages\\python310\\site-packages (from fastparquet) (23.0)\n",
      "Requirement already satisfied: numpy>=1.20.3 in c:\\users\\aydin\\appdata\\local\\packages\\pythonsoftwarefoundation.python.3.10_qbz5n2kfra8p0\\localcache\\local-packages\\python310\\site-packages (from fastparquet) (1.23.5)\n",
      "Requirement already satisfied: pandas>=1.5.0 in c:\\users\\aydin\\appdata\\local\\packages\\pythonsoftwarefoundation.python.3.10_qbz5n2kfra8p0\\localcache\\local-packages\\python310\\site-packages (from fastparquet) (1.5.3)\n",
      "Requirement already satisfied: pytz>=2020.1 in c:\\users\\aydin\\appdata\\local\\packages\\pythonsoftwarefoundation.python.3.10_qbz5n2kfra8p0\\localcache\\local-packages\\python310\\site-packages (from pandas>=1.5.0->fastparquet) (2022.7.1)\n",
      "Requirement already satisfied: python-dateutil>=2.8.1 in c:\\users\\aydin\\appdata\\local\\packages\\pythonsoftwarefoundation.python.3.10_qbz5n2kfra8p0\\localcache\\local-packages\\python310\\site-packages (from pandas>=1.5.0->fastparquet) (2.8.2)\n",
      "Requirement already satisfied: six>=1.5 in c:\\users\\aydin\\appdata\\local\\packages\\pythonsoftwarefoundation.python.3.10_qbz5n2kfra8p0\\localcache\\local-packages\\python310\\site-packages (from python-dateutil>=2.8.1->pandas>=1.5.0->fastparquet) (1.16.0)\n",
      "Installing collected packages: fsspec, cramjam, fastparquet\n",
      "Successfully installed cramjam-2.7.0 fastparquet-2023.8.0 fsspec-2023.9.2\n"
     ]
    },
    {
     "name": "stderr",
     "output_type": "stream",
     "text": [
      "\n",
      "[notice] A new release of pip is available: 23.0.1 -> 23.2.1\n",
      "[notice] To update, run: C:\\Users\\aydin\\AppData\\Local\\Microsoft\\WindowsApps\\PythonSoftwareFoundation.Python.3.10_qbz5n2kfra8p0\\python.exe -m pip install --upgrade pip\n"
     ]
    }
   ],
   "source": [
    "# !pip install fastparquet"
   ]
  },
  {
   "cell_type": "code",
   "execution_count": 3,
   "id": "c17aa91888876b79",
   "metadata": {
    "ExecuteTime": {
     "end_time": "2023-09-28T15:27:28.886888400Z",
     "start_time": "2023-09-28T15:27:20.547413Z"
    },
    "collapsed": false
   },
   "outputs": [],
   "source": [
    "data = pd.read_parquet(\"train_final.parquet\")"
   ]
  },
  {
   "cell_type": "code",
   "execution_count": 4,
   "id": "2f96bafb67b62547",
   "metadata": {
    "ExecuteTime": {
     "end_time": "2023-09-28T15:28:13.530765200Z",
     "start_time": "2023-09-28T15:28:13.393952200Z"
    },
    "collapsed": false
   },
   "outputs": [
    {
     "data": {
      "text/html": [
       "<div>\n",
       "<style scoped>\n",
       "    .dataframe tbody tr th:only-of-type {\n",
       "        vertical-align: middle;\n",
       "    }\n",
       "\n",
       "    .dataframe tbody tr th {\n",
       "        vertical-align: top;\n",
       "    }\n",
       "\n",
       "    .dataframe thead th {\n",
       "        text-align: right;\n",
       "    }\n",
       "</style>\n",
       "<table border=\"1\" class=\"dataframe\">\n",
       "  <thead>\n",
       "    <tr style=\"text-align: right;\">\n",
       "      <th></th>\n",
       "      <th>id</th>\n",
       "      <th>month</th>\n",
       "      <th>n_seconds_1</th>\n",
       "      <th>n_seconds_2</th>\n",
       "      <th>n_seconds_3</th>\n",
       "      <th>carrier</th>\n",
       "      <th>devicebrand</th>\n",
       "      <th>feature_0</th>\n",
       "      <th>feature_1</th>\n",
       "      <th>feature_2</th>\n",
       "      <th>...</th>\n",
       "      <th>feature_41</th>\n",
       "      <th>feature_42</th>\n",
       "      <th>feature_43</th>\n",
       "      <th>feature_44</th>\n",
       "      <th>feature_45</th>\n",
       "      <th>feature_46</th>\n",
       "      <th>feature_47</th>\n",
       "      <th>feature_48</th>\n",
       "      <th>feature_49</th>\n",
       "      <th>target</th>\n",
       "    </tr>\n",
       "  </thead>\n",
       "  <tbody>\n",
       "    <tr>\n",
       "      <th>0</th>\n",
       "      <td>5beefd4d2bf4a4767e0df8108</td>\n",
       "      <td>10</td>\n",
       "      <td>5245.571</td>\n",
       "      <td>981.182</td>\n",
       "      <td>205.948</td>\n",
       "      <td>VODAFONE TR</td>\n",
       "      <td>Apple</td>\n",
       "      <td>-1.197737</td>\n",
       "      <td>1.113360</td>\n",
       "      <td>-1.123334</td>\n",
       "      <td>...</td>\n",
       "      <td>-2.613336</td>\n",
       "      <td>-2.032903</td>\n",
       "      <td>2.645719</td>\n",
       "      <td>-1.023478</td>\n",
       "      <td>1.658986</td>\n",
       "      <td>-1.559406</td>\n",
       "      <td>-2.161336</td>\n",
       "      <td>30</td>\n",
       "      <td>58</td>\n",
       "      <td>menu2, menu4, menu5</td>\n",
       "    </tr>\n",
       "    <tr>\n",
       "      <th>1</th>\n",
       "      <td>867285b116c063d5a8482f5be</td>\n",
       "      <td>10</td>\n",
       "      <td>5184.876</td>\n",
       "      <td>557.650</td>\n",
       "      <td>487.587</td>\n",
       "      <td>TURKCELL</td>\n",
       "      <td>samsung</td>\n",
       "      <td>-2.336352</td>\n",
       "      <td>2.567766</td>\n",
       "      <td>-0.494908</td>\n",
       "      <td>...</td>\n",
       "      <td>-0.983938</td>\n",
       "      <td>-1.453756</td>\n",
       "      <td>-0.021547</td>\n",
       "      <td>-0.195770</td>\n",
       "      <td>2.775513</td>\n",
       "      <td>-0.318980</td>\n",
       "      <td>-4.291473</td>\n",
       "      <td>21</td>\n",
       "      <td>45</td>\n",
       "      <td>menu7, menu8, menu4</td>\n",
       "    </tr>\n",
       "    <tr>\n",
       "      <th>2</th>\n",
       "      <td>c82a7cbd2e00d9b66c06bcadc</td>\n",
       "      <td>10</td>\n",
       "      <td>3835.618</td>\n",
       "      <td>3275.128</td>\n",
       "      <td>43.806</td>\n",
       "      <td>TURK TELEKOM</td>\n",
       "      <td>Redmi</td>\n",
       "      <td>-2.561455</td>\n",
       "      <td>2.061736</td>\n",
       "      <td>-0.184511</td>\n",
       "      <td>...</td>\n",
       "      <td>-1.668703</td>\n",
       "      <td>-3.599403</td>\n",
       "      <td>1.673868</td>\n",
       "      <td>0.631790</td>\n",
       "      <td>1.293131</td>\n",
       "      <td>-2.230909</td>\n",
       "      <td>-2.383524</td>\n",
       "      <td>19</td>\n",
       "      <td>61</td>\n",
       "      <td>menu2, menu8, menu4</td>\n",
       "    </tr>\n",
       "    <tr>\n",
       "      <th>3</th>\n",
       "      <td>f2d2b25073ccc298eced86897</td>\n",
       "      <td>10</td>\n",
       "      <td>3532.544</td>\n",
       "      <td>154.509</td>\n",
       "      <td>64.724</td>\n",
       "      <td>TURKCELL</td>\n",
       "      <td>samsung</td>\n",
       "      <td>-2.529918</td>\n",
       "      <td>3.358050</td>\n",
       "      <td>-0.851366</td>\n",
       "      <td>...</td>\n",
       "      <td>-1.861418</td>\n",
       "      <td>-1.219658</td>\n",
       "      <td>1.863495</td>\n",
       "      <td>0.213170</td>\n",
       "      <td>1.029710</td>\n",
       "      <td>-1.142185</td>\n",
       "      <td>-4.466191</td>\n",
       "      <td>2</td>\n",
       "      <td>41</td>\n",
       "      <td>menu6, menu2, menu1</td>\n",
       "    </tr>\n",
       "    <tr>\n",
       "      <th>4</th>\n",
       "      <td>7818c92a58af0f2cb7c361738</td>\n",
       "      <td>10</td>\n",
       "      <td>3344.192</td>\n",
       "      <td>787.896</td>\n",
       "      <td>715.115</td>\n",
       "      <td>VODAFONE TR</td>\n",
       "      <td>samsung</td>\n",
       "      <td>-2.922361</td>\n",
       "      <td>2.096124</td>\n",
       "      <td>0.060796</td>\n",
       "      <td>...</td>\n",
       "      <td>-0.142903</td>\n",
       "      <td>-1.875545</td>\n",
       "      <td>1.024499</td>\n",
       "      <td>-0.186423</td>\n",
       "      <td>-0.061626</td>\n",
       "      <td>-1.462175</td>\n",
       "      <td>-2.371206</td>\n",
       "      <td>23</td>\n",
       "      <td>85</td>\n",
       "      <td>menu6, menu2, menu8</td>\n",
       "    </tr>\n",
       "  </tbody>\n",
       "</table>\n",
       "<p>5 rows × 58 columns</p>\n",
       "</div>"
      ],
      "text/plain": [
       "                          id  month  n_seconds_1  n_seconds_2  n_seconds_3  \\\n",
       "0  5beefd4d2bf4a4767e0df8108     10     5245.571      981.182      205.948   \n",
       "1  867285b116c063d5a8482f5be     10     5184.876      557.650      487.587   \n",
       "2  c82a7cbd2e00d9b66c06bcadc     10     3835.618     3275.128       43.806   \n",
       "3  f2d2b25073ccc298eced86897     10     3532.544      154.509       64.724   \n",
       "4  7818c92a58af0f2cb7c361738     10     3344.192      787.896      715.115   \n",
       "\n",
       "        carrier devicebrand  feature_0  feature_1  feature_2  ...  feature_41  \\\n",
       "0   VODAFONE TR       Apple  -1.197737   1.113360  -1.123334  ...   -2.613336   \n",
       "1      TURKCELL     samsung  -2.336352   2.567766  -0.494908  ...   -0.983938   \n",
       "2  TURK TELEKOM       Redmi  -2.561455   2.061736  -0.184511  ...   -1.668703   \n",
       "3      TURKCELL     samsung  -2.529918   3.358050  -0.851366  ...   -1.861418   \n",
       "4   VODAFONE TR     samsung  -2.922361   2.096124   0.060796  ...   -0.142903   \n",
       "\n",
       "   feature_42  feature_43  feature_44  feature_45  feature_46  feature_47  \\\n",
       "0   -2.032903    2.645719   -1.023478    1.658986   -1.559406   -2.161336   \n",
       "1   -1.453756   -0.021547   -0.195770    2.775513   -0.318980   -4.291473   \n",
       "2   -3.599403    1.673868    0.631790    1.293131   -2.230909   -2.383524   \n",
       "3   -1.219658    1.863495    0.213170    1.029710   -1.142185   -4.466191   \n",
       "4   -1.875545    1.024499   -0.186423   -0.061626   -1.462175   -2.371206   \n",
       "\n",
       "   feature_48  feature_49               target  \n",
       "0          30          58  menu2, menu4, menu5  \n",
       "1          21          45  menu7, menu8, menu4  \n",
       "2          19          61  menu2, menu8, menu4  \n",
       "3           2          41  menu6, menu2, menu1  \n",
       "4          23          85  menu6, menu2, menu8  \n",
       "\n",
       "[5 rows x 58 columns]"
      ]
     },
     "execution_count": 4,
     "metadata": {},
     "output_type": "execute_result"
    }
   ],
   "source": [
    "data.head()"
   ]
  },
  {
   "cell_type": "code",
   "execution_count": 22,
   "id": "6c5866fdde5095a1",
   "metadata": {
    "ExecuteTime": {
     "end_time": "2023-09-28T15:42:59.460683600Z",
     "start_time": "2023-09-28T15:42:59.423614200Z"
    },
    "collapsed": false
   },
   "outputs": [],
   "source": [
    "def check_df(dataframe, head=5, non_numeric=True):\n",
    "    \"\"\"\n",
    "    Veri setinin genel özellikleirni yazdirir.\n",
    "    non_numeric değişken veri setinde kategorik değişken varsa false yapılmalıdır.\n",
    "\n",
    "    \"\"\"\n",
    "    print(\"##################### Shape #####################\")\n",
    "    print(dataframe.shape)\n",
    "    print(\"##################### Types #####################\")\n",
    "    print(dataframe.dtypes)\n",
    "    print(\"##################### Head #####################\")\n",
    "    print(dataframe.head(head))\n",
    "    print(\"##################### Tail #####################\")\n",
    "    print(dataframe.tail(head))\n",
    "    print(\"##################### NA #####################\")\n",
    "    print(dataframe.isnull().sum())\n",
    "    print(\"##################### DESCRIBE #####################\")\n",
    "    print(dataframe.describe())\n",
    "    if non_numeric:\n",
    "        print(\"##################### Quantiles #####################\")\n",
    "        print(dataframe.quantile([0, 0.05, 0.50, 0.95, 0.99, 1]).T)\n",
    "\n",
    "\n",
    "def num_summary(dataframe, numerical_col, plot=False):\n",
    "    \"\"\"\n",
    "        Numerik kolonlar input olarak verilmelidir.\n",
    "        Sadece ekrana cikti veren herhangi bir degeri return etmeyen bir fonksiyondur.\n",
    "        For dongusuyle calistiginda grafiklerde bozulma olmamaktadir.\n",
    "    \"\"\"\n",
    "    quantiles = [0.05, 0.10, 0.20, 0.30, 0.40, 0.50, 0.60, 0.70, 0.80, 0.90, 0.95, 0.99]\n",
    "    print(dataframe[numerical_col].describe(quantiles).T)\n",
    "\n",
    "    if plot:\n",
    "        dataframe[numerical_col].hist(bins=20)\n",
    "        plt.xlabel(numerical_col)\n",
    "        plt.title(numerical_col)\n",
    "        plt.show(block=True)\n",
    "\n",
    "\n",
    "def grab_col_names(dataframe, cat_th=10, car_th=20):\n",
    "    \"\"\"\n",
    "    Veri setindeki kategorik, numerik ve kategorik fakat kardinal değişkenlerin isimlerini verir.\n",
    "    Not: Kategorik değişkenlerin içerisine numerik görünümlü kategorik değişkenleri de dahil eder.\n",
    "\n",
    "    Parameters\n",
    "    ------\n",
    "        dataframe: dataframe\n",
    "                Değişken isimleri alınmak istenilen dataframe\n",
    "        cat_th: int, optional\n",
    "                numerik fakat kategorik olan değişkenler için sınıf eşik değeri\n",
    "        car_th: int, optinal\n",
    "                kategorik fakat kardinal değişkenler için sınıf eşik değeri\n",
    "\n",
    "    Returns\n",
    "    ------\n",
    "        cat_cols: list\n",
    "                Kategorik değişken listesi\n",
    "        num_cols: list\n",
    "                Numerik değişken listesi\n",
    "\n",
    "    Examples\n",
    "    ------\n",
    "        import seaborn as sns\n",
    "        df = sns.load_dataset(\"iris\")\n",
    "        print(grab_col_names(df))\n",
    "\n",
    "\n",
    "    Notes\n",
    "    ------\n",
    "        cat_cols + num_cols = toplam değişken sayısı\n",
    "        num_but_cat cat_cols'un içerisinde.\n",
    "    \"\"\"\n",
    "    # cat_cols, cat_but_car\n",
    "    cat_cols = [col for col in dataframe.columns if dataframe[col].dtypes == \"O\"]\n",
    "    num_but_cat = [col for col in dataframe.columns if dataframe[col].nunique() < cat_th and\n",
    "                   dataframe[col].dtypes != \"O\"]\n",
    "    cat_but_car = [col for col in dataframe.columns if dataframe[col].nunique() > car_th and\n",
    "                   dataframe[col].dtypes == \"O\"]\n",
    "    cat_cols = cat_cols + num_but_cat\n",
    "    cat_cols = [col for col in cat_cols if col not in cat_but_car]\n",
    "\n",
    "    # num_cols\n",
    "    num_cols = [col for col in dataframe.columns if dataframe[col].dtypes != \"O\"]\n",
    "    num_cols = [col for col in num_cols if col not in num_but_cat]\n",
    "\n",
    "    print(f\"Observations: {dataframe.shape[0]}\")\n",
    "    print(f\"Variables: {dataframe.shape[1]}\")\n",
    "    print(f'cat_cols: {len(cat_cols)}')\n",
    "    print(f'num_cols: {len(num_cols)}')\n",
    "    print(f'cat_but_car: {len(cat_but_car)}')\n",
    "    print(f'num_but_cat: {len(num_but_cat)}')\n",
    "    return cat_cols, num_cols, cat_but_car\n",
    "\n",
    "def missing_values_table(dataframe, na_name=False):\n",
    "    na_columns = [col for col in dataframe.columns if dataframe[col].isnull().sum() > 0]\n",
    "\n",
    "    n_miss = dataframe[na_columns].isnull().sum().sort_values(ascending=False)\n",
    "    ratio = (dataframe[na_columns].isnull().sum() / dataframe.shape[0] * 100).sort_values(ascending=False)\n",
    "    missing_df = pd.concat([n_miss, np.round(ratio, 2)], axis=1, keys=['n_miss', 'ratio'])\n",
    "    print(missing_df, end=\"\\n\")\n",
    "\n",
    "    if na_name:\n",
    "        return na_columns"
   ]
  },
  {
   "cell_type": "code",
   "execution_count": 28,
   "id": "589e49e6e3285895",
   "metadata": {
    "ExecuteTime": {
     "end_time": "2023-09-28T15:48:45.969319400Z",
     "start_time": "2023-09-28T15:48:45.890519400Z"
    },
    "collapsed": false
   },
   "outputs": [],
   "source": [
    "def cat_summary(dataframe, col_name, plot=False):\n",
    "    print(pd.DataFrame({col_name: dataframe[col_name].value_counts(),\n",
    "                        \"Ratio\": 100 * dataframe[col_name].value_counts() / len(dataframe)}))\n",
    "    print(\"##########################################\")\n",
    "    if plot:\n",
    "        sns.countplot(x=dataframe[col_name], data=dataframe)\n",
    "        plt.show()"
   ]
  },
  {
   "cell_type": "code",
   "execution_count": 5,
   "id": "a1e43ab3",
   "metadata": {},
   "outputs": [],
   "source": [
    "def do_Target_spareted(dataframe):\n",
    "    new_spareted_cabin = dataframe[\"target\"].str.split(pat = \",\", expand = True)\n",
    "    \n",
    "    dataframe.drop(\"target\", axis=1, inplace=True)\n",
    "    \n",
    "    new_spareted_cabin.rename(columns={0 : 'first_menu',\n",
    "                                       1 : 'second_menu',\n",
    "                                       2 : 'third_menu'}, inplace=True)\n",
    "    \n",
    "    return pd.concat([dataframe, new_spareted_cabin], axis=1)"
   ]
  },
  {
   "cell_type": "code",
   "execution_count": null,
   "id": "6a5ea63f33694173",
   "metadata": {
    "ExecuteTime": {
     "end_time": "2023-09-28T15:32:03.063383400Z",
     "start_time": "2023-09-28T15:32:01.322416100Z"
    },
    "collapsed": false
   },
   "outputs": [],
   "source": [
    "check_df(data)"
   ]
  },
  {
   "cell_type": "code",
   "execution_count": 18,
   "id": "8f16b2bdc689e205",
   "metadata": {
    "ExecuteTime": {
     "end_time": "2023-09-28T15:40:43.616342500Z",
     "start_time": "2023-09-28T15:40:43.513585600Z"
    },
    "collapsed": false
   },
   "outputs": [
    {
     "name": "stdout",
     "output_type": "stream",
     "text": [
      "Empty DataFrame\n",
      "Columns: [n_miss, ratio]\n",
      "Index: []\n"
     ]
    }
   ],
   "source": [
    "missing_values_table(data)"
   ]
  },
  {
   "cell_type": "code",
   "execution_count": 13,
   "id": "eafd8ee9b9f726c0",
   "metadata": {
    "ExecuteTime": {
     "end_time": "2023-09-28T15:39:25.856959800Z",
     "start_time": "2023-09-28T15:39:25.786801300Z"
    },
    "collapsed": false
   },
   "outputs": [
    {
     "data": {
      "text/plain": [
       "556"
      ]
     },
     "execution_count": 13,
     "metadata": {},
     "output_type": "execute_result"
    }
   ],
   "source": [
    "data[\"carrier\"].nunique()"
   ]
  },
  {
   "cell_type": "code",
   "execution_count": 8,
   "id": "70fbd0e9",
   "metadata": {},
   "outputs": [
    {
     "data": {
      "text/plain": [
       "array(['VODAFONE TR', 'TURKCELL', 'TURK TELEKOM', 'TELEKOM.DE', 'Unknown',\n",
       "       'BIMCELL', 'PTTCELL', 'TEKNOSACELL', 'O2-DE', 'KKTCELL',\n",
       "       'CUMHURIYET', 'TR TURKCELL', 'VODAFONE', 'CAPA', 'IAM', 'VERIZON',\n",
       "       'LIFECELL TR', 'STC KSA RIBF2022', 'SULEYMAN YAGIZ ', '3 AT',\n",
       "       'HAYATEVESIGAR', 'XFINITY MOBILE', 'GSMOBILE', 'FENERCELL',\n",
       "       'O2 - DE+', 'TELIA', 'VODAFONE UK', '1&1', 'BASE', 'CLARO PERU',\n",
       "       'F-BOUYGUES TELECOM', 'VODAFONE RO', 'OZLEM', 'GEOCELL',\n",
       "       'TRABZONCELL', 'KPN NL', 'ERTANZULAL', 'O2 - DE', 'KOREK',\n",
       "       'SUNRISE', 'Z 4.5G+', 'MEDIONMOBILE', 'METIN', 'DIVERSEY KIMYA',\n",
       "       'AYYILDIZ.DE', 'EVATIS', ' ', 'ZAIN IQ', 'TELEKOM.RO', 'AVEA',\n",
       "       'FENERCELL-AVEA', 'HYPNOGAJA', 'IBRAHIM KUTSI ', 'VODAFONE.DE',\n",
       "       'GAYETIYICEKIYOR', 'UAE 51 ETISALAT', 'VODA AU', 'OSMAN SARIKAYA ',\n",
       "       'ETISALAT', 'ORANGE F', 'VODAFONE IT', 'SALT', 'ELUX',\n",
       "       'MUTLU YILLAR', 'WTTC KSA', 'VIRGIN', 'CARRIER', 'BEELINE',\n",
       "       'ILIAD', 'BURAK', 'UZB UCELL', 'VODAFONE TÜRKIYE', 'FREE', 'TAMER',\n",
       "       'VODAFONE TR,', 'AZERCELL', 'TEKNOSACEL', 'BLACK WOLF', 'VF NL',\n",
       "       'F SFR', 'ORANGE', 'O2 - SK', 'T-MOBILE', 'CUBACEL', 'SFR', 'STC',\n",
       "       'KCELL', 'ASIACELL', 'VODAFONE NL', '3 SE', 'VODAFONE TURKIYE',\n",
       "       'TIGO', 'EVDEHAYATVAR', 'NL KPN', 'SAMIH YILDIRIM', 'DU',\n",
       "       'PREMIUMSIM', 'DOLAŞIM GÖSTERGESI KAPALI.', 'VODAFONE IE',\n",
       "       'TALKMORE', 'ATA HAN', 'عيش الحماس', 'O2 - UK', 'TURKCELLLLLL',\n",
       "       'TELE2', 'LIBYANA', 'ORANGE FRANCE', 'TELENOR SE',\n",
       "       'SAMPIYON FENER', 'SEVOCELL', 'LYCAMOBILE', 'VODACOM SA', 'K',\n",
       "       'WINDTRE', 'TELEKOM.DE | TURK TELEKOM', 'NAXTEL LTE',\n",
       "       'GULSER AYCAN', 'NAGIHAN', 'MAXIS', 'TEKNOSA',\n",
       "       'MOBILE TELESYSTEMS', 'AIRALO', 'PLAY', 'TURK TELEKOM | AVEA',\n",
       "       'HIZMET YOK', 'OOREDOO', 'KUZEY RUZGAR', 'TELE2 NL',\n",
       "       'ORANGE ESPAÑA', 'FIDO', 'LIFECELL', 'OPTUS AU', 'KONUR',\n",
       "       'UZTELECOM', 'ZAIN IRAQ', 'T-MOBILE NL', 'ALTAY', 'PRIMETEL',\n",
       "       'ZULKIF ORAK ', '3', '3 IRELAND', 'VERIZON ', 'KAYIHAN', '61 CELL',\n",
       "       'MTS RUS', 'VODAFONE AU', 'TURKCELL | AYYILDIZ.DE',\n",
       "       'TURKCELL KENAN', 'VESTELCELL', 'YETTEL BG', 'ORANGE LU WITH YOU',\n",
       "       '3AT', 'DJEZZY', 'MAHMUTEFE', 'KUTAY', 'OPTUS', 'MOVISTAR',\n",
       "       'ELISA', 'OLCAYTUG BOZDAG', 'TIM', 'MEGAFON', 'SIMDISCOUNT.DE',\n",
       "       'ORANGE SL', 'CEM', 'PROXIMUS', 'MELIHA',\n",
       "       'T-MOBILE | TURK TELEKOM', 'ORANGE MALI', 'SMART', 'THREE',\n",
       "       'SINGTEL', 'WIND GR', 'MCI', 'DARKEYES ', 'BILAL', 'BAKCELL',\n",
       "       'BLAU', 'CLARO ARGENTINA', 'AT&T', 'ALPCIGIM', 'YETTEL HU',\n",
       "       'SAHSI HAT 532', 'ORANGE CD', 'CALL ME', 'BEN NL', 'VODAFONE P',\n",
       "       'VIVACOM', 'LIFECELLTR KRCV', 'MAGTI-GSM-GEO', 'CHINA MOBILE',\n",
       "       'ETISALAT BY E&', 'BANGLALINK', 'FASTWEB', 'ALMADAR', 'TM HR',\n",
       "       'IRANCELL', 'MUHARREM 1907', 'AIRTEL', 'ETHIO TEL',\n",
       "       'TELEKOM.DE | MOBILCOM-DEBITEL', 'FASTLINK', 'CELLCOM', 'SWISSCOM',\n",
       "       'STC KSA', 'NETZ', 'RO VODAFONE RO', 'KAHVECIOGLU',\n",
       "       'BOUYGUES TELECOM', 'O2 - DE | TURK TELEKOM', 'KORAY ARSLAN GS',\n",
       "       'LINA', 'ORANGE SN', '938', 'MOBILY RIBF2022', 'FJ', 'GENC',\n",
       "       'ORANGE B', 'TELCEL', 'ZAIN SDN', 'A1 SI', 'HUMAZUMRA', 'LEBARA',\n",
       "       'MUTI', 'NEVZAT', 'T-MOBILE  NL', 'A1 SRB', 'UNITEL', 'OZKARACA',\n",
       "       'AY YILDIZ', 'O2.CZ', 'MEHMET ', 'LONESTAR', 'MEGAFON RUS',\n",
       "       'YUSUF AYAZ', 'ORANGE ROMANIA', 'SPICE MOBILE', 'TELENOR', 'O2',\n",
       "       'GOK HAN', 'EE', 'BHMOBILE', 'TUGAYCELL', 'COSMOTE', 'MTN',\n",
       "       'MEHMET', 'BEELINEKZ', 'DY', 'EVINCELL', 'ALTANAKCINAR',\n",
       "       'O2 - DE | AVEA', 'ORANGE GN', 'GIFFGAFF', 'TURKCELL | ETISALAT',\n",
       "       'VODAFONE OM', 'UMUTCAN', 'YES OPTUS', 'TM CELL', 'VODAFONE ES',\n",
       "       'BISMILLAH', 'BEELINE KG', 'M:TEL', 'SOFTBANK', 'MEGAFON #1',\n",
       "       'ZAIN KW', 'A1 BG', 'TESCO', 'TURABI', 'I TIM', 'ORANGE GUINEA',\n",
       "       'HORMUUD TELECOM', 'KARTALCELL-AVEA', '####', '中国移动', 'IPKO',\n",
       "       'EVDEKAL TR', 'TURK TELEKOM | 3', 'SEYHMUS', 'UPC CH',\n",
       "       'T-MOBILE-NL', 'TCELL', 'TELEKOM.AL', 'A1', 'VODAFONE HU', 'INWI',\n",
       "       'JIO 4G', 'TOGOCEL', 'ROGERS', 'ALTEL 4G', 'ZAIN', 'WEBBING',\n",
       "       'ORKUN', 'PURE TALK', 'VODAFONE UA', 'VODACOM', 'UZMOBILE',\n",
       "       'ORANGE LUXEMBOURG', 'TELEKOM.ME', 'GRAMEENPHONE', 'NAR',\n",
       "       'FATIH SAHIN ', 'ARTTEMA ', 'FENERBAHCE', 'AIS', 'ALDIMOBILE',\n",
       "       'EKREM', 'HASAN AVSAR', 'TURK TELEKOM | AYCELL-ARIA', 'UCELL',\n",
       "       'PRENSESLERIM', 'TELIA DK', 'ATATURK', 'DIGITEL', 'BATELCO',\n",
       "       'CLARO BRASIL', 'GSMOBILE-AVEA', 'MHMTSAID', 'KHAFACELL', 'YETTEL',\n",
       "       'AL MADAR', 'BT', 'OERBAS', 'DENIZBURCU', 'TELENOR DK', 'COMVIQ',\n",
       "       'BURSA MOBILE', '3 DK', 'MR EXPRESSO', 'OZAYSULTAN', 'ALFA',\n",
       "       '286 026', 'APO', 'ORANGE BF', 'CACHARELS', 'MTN UG SAYS SENKYU!',\n",
       "       'YUKSEL', 'AFRICELL', 'METRO', 'ORTEL D', 'TELUS', 'ORANGE NIGER',\n",
       "       'TELENET', 'KOODO', 'BIMCELL@', 'MOBICOM', 'TOUCH', 'DNA', 'SUUU!',\n",
       "       'VODAFONE QA', 'UGURAYKAC', 'REGLO MOBILE', 'SUDANI', 'AF AWCC',\n",
       "       'MOBILIS', 'LA POSTE MOBILE', 'DRILLISCH', 'MAGENTA-T-',\n",
       "       'ULTRA/MINT MOBILE', 'MUSTAFABICE', 'R A I F', 'GALATASARAY',\n",
       "       'MOBILY', 'MAGTICOM', 'SENOL OGUTLU', 'FILIZEYUPAHMET', 'PLUS',\n",
       "       'SEYIT', 'A1 HR', 'NEVZAT DUNDAR ', 'BARMANBEK',\n",
       "       'STAY SAFE ORANGE B', 'MOBILINK', 'IR-MCI', 'BEELINE UZ',\n",
       "       'OKCUA18', 'FI TELIA', 'TELMA', 'TELEKOM.MK', ' STAY SAFE ',\n",
       "       'ZAIN KSA', 'CANESILA', 'SINYAL YOK', 'VERIZON WIRELESS',\n",
       "       'SOMNET TELECOM INC', 'SEFA BOREKCI ', 'KLARMOBIL', 'TÜRK TELEKOM',\n",
       "       '9MOBILE', 'AYBARS', 'TRUE-H', 'SMARTY', 'DTAC',\n",
       "       'MOBILCOM-DEBITEL', 'MUNI', 'RAMCHES', 'SALIHCELL', 'UGURO999',\n",
       "       'SANER 8', 'YASIN KAYA ', 'RAKUTEN', 'ROBI', 'MURAT MUTLU',\n",
       "       'TN MOBILE', 'ONE', 'MAROC TELECOM', 'SERTAN', 'ドコモ', 'TELIA N',\n",
       "       'UFONE', 'SIMPLY', '中国联通', 'RESUL SAGMAN', 'GOKHAN SENGUL ',\n",
       "       'NEHIR BILGE', 'TURK TELEKOM,', 'VODAFONE.DE | TURK TELEKOM',\n",
       "       'SAHIN', '36801', 'HAKAN', 'SOMNET', 'ISMAIL UCAR', 'VODAFONE CZ',\n",
       "       'TURKCELL LLETISIM HIZMETLERI A.S.', 'MTN-STAY SAFE', 'MOVITEL',\n",
       "       'BURAKCELL', 'NETTOKOM', 'SEZEN AHMET', 'AIRTELTANZANIA', 'DBAA',\n",
       "       'KUZGUN', 'ORANGE MG', 'TELIADK', 'RAMAZAN CAKAL', 'ELISA EE',\n",
       "       'DENT', 'YANKI DORA', 'ORANGE | TURKCELL', 'SINAN SAPUK ', 'KORAY',\n",
       "       'HANIFI ALKIS', 'BELOCELL', 'SAITBAL', 'BELL', 'PRIME', 'TELE2 SE',\n",
       "       'VODAFONE QATAR', 'SEMA', 'MIRHAN', 'UAE51-VIRGIN', 'MY MAXIS',\n",
       "       'ORANGE - STAY SAFE', 'QUICKLINE', 'HUDAVERDI', 'EVINIYENILE',\n",
       "       'BENDEZ', 'PARTNER', 'HALOTEL', 'TURK TELEKOM | A R I A',\n",
       "       'VAHID BABA', 'ORANGE SOYONSPRUDENTS', 'SIMPEL',\n",
       "       'PROXIMUS | TURK TELEKOM', 'DIGITEC', 'CALLING 112', 'EIR',\n",
       "       'MOLDCELL', 'HANDYVERTRAG.DE', 'ORANGEMALI', 'CHATR', 'POST',\n",
       "       'EPIC', 'AYDIN ', 'VOLNA', 'NURAY PEKCUR', '30 NOV - DU',\n",
       "       'BH MOBILE | TURK TELEKOM', 'SERKAN', 'VI INDIA', 'CHINA TELECOM',\n",
       "       '61CELL', 'AHMETCELIKKANAT', 'TELEKOM SK', 'HUZUR',\n",
       "       'PARATUZAKCELL', 'AAA', 'T-MOBILE-NL | TURK TELEKOM', 'DIGICEL',\n",
       "       'BUDGET MOBIEL', 'BESIKTAS', 'CLARO', 'A1 MK', 'TELENOR ',\n",
       "       'ORANGE\\x11EGYPT', 'SPECTRUM', 'IPAD', 'ESRASERVET',\n",
       "       'TRABZONCELL-AVEA', 'TANGO', 'BERFINIMM', 'BH MOBILE',\n",
       "       'ERSOY MASAT', 'BERRANUR', 'FREEDOM MOBILE', '242734277',\n",
       "       'BKRCELL', 'TURKCELL ', 'TURK TELEKO\\x05', 'TURKTELEKOM',\n",
       "       '#STOPCOVID19', 'STAYSAFE ORANGE', 'L ORANGE-LU', 'VODAFONE GR',\n",
       "       'VIDEOTRON', 'M:TEL | GSMOBILE', 'TFW', 'LDILAVER', 'OMER HASGUL',\n",
       "       'SAADET', 'CHIPPIE', 'TDC', 'SEVKOCELL', 'GLOBE',\n",
       "       'ORANGE MADAGASCAR', 'KYIVSTAR', 'GOKHAN TEPE', 'ZAIN WTTC KSA',\n",
       "       'ERTAS TR', 'T-MOBILE.PL', 'WILLKOMMEN', 'VODAFONE AL', 'MMSAV',\n",
       "       'YSL', 'STC KW', 'ARIF BEKTAS', 'ERCANKESIM', 'AWCC', 'TASKIN',\n",
       "       'BAKCELL GSM2000', 'VF RO', 'MURAT OZDEMIR', 'ZAIN JO', ' FERHAT',\n",
       "       'FREENET FUNK', 'LIDL CONNECT', 'ELIF BERRAM', 'NCELL', 'CAKIR',\n",
       "       'VF GR', 'KENAN', 'DREI', 'IPHONE', 'ILKAYGULCU', 'BURAK EFE',\n",
       "       'NICEMOBIL', 'ADENASEL', 'BELALIM'], dtype=object)"
      ]
     },
     "execution_count": 8,
     "metadata": {},
     "output_type": "execute_result"
    }
   ],
   "source": [
    "data[\"carrier\"].unique()"
   ]
  },
  {
   "cell_type": "code",
   "execution_count": 23,
   "id": "d020753aff65d40b",
   "metadata": {
    "ExecuteTime": {
     "end_time": "2023-09-28T15:43:17.355409600Z",
     "start_time": "2023-09-28T15:43:16.500005700Z"
    },
    "collapsed": false
   },
   "outputs": [
    {
     "name": "stdout",
     "output_type": "stream",
     "text": [
      "Observations: 94049\n",
      "Variables: 58\n",
      "cat_cols: 1\n",
      "num_cols: 53\n",
      "cat_but_car: 4\n",
      "num_but_cat: 1\n"
     ]
    }
   ],
   "source": [
    "cat_cols, num_cols, cat_but_car = grab_col_names(data)"
   ]
  },
  {
   "cell_type": "code",
   "execution_count": 29,
   "id": "17d764067136c2b7",
   "metadata": {
    "ExecuteTime": {
     "end_time": "2023-09-28T15:49:34.844599Z",
     "start_time": "2023-09-28T15:49:34.764688500Z"
    },
    "collapsed": false
   },
   "outputs": [
    {
     "name": "stdout",
     "output_type": "stream",
     "text": [
      "    month      Ratio\n",
      "12  44433  47.244521\n",
      "11  34485  36.667057\n",
      "10  15131  16.088422\n",
      "##########################################\n"
     ]
    }
   ],
   "source": [
    "for col in cat_cols:\n",
    "    cat_summary(data, col)"
   ]
  },
  {
   "cell_type": "code",
   "execution_count": null,
   "id": "251dbeeef6353a7e",
   "metadata": {
    "ExecuteTime": {
     "end_time": "2023-09-28T15:51:32.508397900Z",
     "start_time": "2023-09-28T15:51:32.291490600Z"
    },
    "collapsed": false
   },
   "outputs": [],
   "source": [
    "for col in cat_but_car:\n",
    "    cat_summary(data, col)"
   ]
  },
  {
   "cell_type": "code",
   "execution_count": 20,
   "id": "5e5419be1bb4909e",
   "metadata": {
    "ExecuteTime": {
     "end_time": "2023-09-28T15:42:12.435606700Z",
     "start_time": "2023-09-28T15:42:12.372725100Z"
    },
    "collapsed": false
   },
   "outputs": [
    {
     "data": {
      "text/plain": [
       "['month']"
      ]
     },
     "execution_count": 20,
     "metadata": {},
     "output_type": "execute_result"
    }
   ],
   "source": [
    "cat_cols"
   ]
  },
  {
   "cell_type": "code",
   "execution_count": 6,
   "id": "87c80bd2",
   "metadata": {},
   "outputs": [],
   "source": [
    "new_data = do_Target_spareted(data)"
   ]
  },
  {
   "cell_type": "code",
   "execution_count": 7,
   "id": "6a09c19b",
   "metadata": {},
   "outputs": [
    {
     "data": {
      "text/html": [
       "<div>\n",
       "<style scoped>\n",
       "    .dataframe tbody tr th:only-of-type {\n",
       "        vertical-align: middle;\n",
       "    }\n",
       "\n",
       "    .dataframe tbody tr th {\n",
       "        vertical-align: top;\n",
       "    }\n",
       "\n",
       "    .dataframe thead th {\n",
       "        text-align: right;\n",
       "    }\n",
       "</style>\n",
       "<table border=\"1\" class=\"dataframe\">\n",
       "  <thead>\n",
       "    <tr style=\"text-align: right;\">\n",
       "      <th></th>\n",
       "      <th>id</th>\n",
       "      <th>month</th>\n",
       "      <th>n_seconds_1</th>\n",
       "      <th>n_seconds_2</th>\n",
       "      <th>n_seconds_3</th>\n",
       "      <th>carrier</th>\n",
       "      <th>devicebrand</th>\n",
       "      <th>feature_0</th>\n",
       "      <th>feature_1</th>\n",
       "      <th>feature_2</th>\n",
       "      <th>...</th>\n",
       "      <th>feature_43</th>\n",
       "      <th>feature_44</th>\n",
       "      <th>feature_45</th>\n",
       "      <th>feature_46</th>\n",
       "      <th>feature_47</th>\n",
       "      <th>feature_48</th>\n",
       "      <th>feature_49</th>\n",
       "      <th>first_menu</th>\n",
       "      <th>second_menu</th>\n",
       "      <th>third_menu</th>\n",
       "    </tr>\n",
       "  </thead>\n",
       "  <tbody>\n",
       "    <tr>\n",
       "      <th>0</th>\n",
       "      <td>5beefd4d2bf4a4767e0df8108</td>\n",
       "      <td>10</td>\n",
       "      <td>5245.571</td>\n",
       "      <td>981.182</td>\n",
       "      <td>205.948</td>\n",
       "      <td>VODAFONE TR</td>\n",
       "      <td>Apple</td>\n",
       "      <td>-1.197737</td>\n",
       "      <td>1.113360</td>\n",
       "      <td>-1.123334</td>\n",
       "      <td>...</td>\n",
       "      <td>2.645719</td>\n",
       "      <td>-1.023478</td>\n",
       "      <td>1.658986</td>\n",
       "      <td>-1.559406</td>\n",
       "      <td>-2.161336</td>\n",
       "      <td>30</td>\n",
       "      <td>58</td>\n",
       "      <td>menu2</td>\n",
       "      <td>menu4</td>\n",
       "      <td>menu5</td>\n",
       "    </tr>\n",
       "    <tr>\n",
       "      <th>1</th>\n",
       "      <td>867285b116c063d5a8482f5be</td>\n",
       "      <td>10</td>\n",
       "      <td>5184.876</td>\n",
       "      <td>557.650</td>\n",
       "      <td>487.587</td>\n",
       "      <td>TURKCELL</td>\n",
       "      <td>samsung</td>\n",
       "      <td>-2.336352</td>\n",
       "      <td>2.567766</td>\n",
       "      <td>-0.494908</td>\n",
       "      <td>...</td>\n",
       "      <td>-0.021547</td>\n",
       "      <td>-0.195770</td>\n",
       "      <td>2.775513</td>\n",
       "      <td>-0.318980</td>\n",
       "      <td>-4.291473</td>\n",
       "      <td>21</td>\n",
       "      <td>45</td>\n",
       "      <td>menu7</td>\n",
       "      <td>menu8</td>\n",
       "      <td>menu4</td>\n",
       "    </tr>\n",
       "    <tr>\n",
       "      <th>2</th>\n",
       "      <td>c82a7cbd2e00d9b66c06bcadc</td>\n",
       "      <td>10</td>\n",
       "      <td>3835.618</td>\n",
       "      <td>3275.128</td>\n",
       "      <td>43.806</td>\n",
       "      <td>TURK TELEKOM</td>\n",
       "      <td>Redmi</td>\n",
       "      <td>-2.561455</td>\n",
       "      <td>2.061736</td>\n",
       "      <td>-0.184511</td>\n",
       "      <td>...</td>\n",
       "      <td>1.673868</td>\n",
       "      <td>0.631790</td>\n",
       "      <td>1.293131</td>\n",
       "      <td>-2.230909</td>\n",
       "      <td>-2.383524</td>\n",
       "      <td>19</td>\n",
       "      <td>61</td>\n",
       "      <td>menu2</td>\n",
       "      <td>menu8</td>\n",
       "      <td>menu4</td>\n",
       "    </tr>\n",
       "    <tr>\n",
       "      <th>3</th>\n",
       "      <td>f2d2b25073ccc298eced86897</td>\n",
       "      <td>10</td>\n",
       "      <td>3532.544</td>\n",
       "      <td>154.509</td>\n",
       "      <td>64.724</td>\n",
       "      <td>TURKCELL</td>\n",
       "      <td>samsung</td>\n",
       "      <td>-2.529918</td>\n",
       "      <td>3.358050</td>\n",
       "      <td>-0.851366</td>\n",
       "      <td>...</td>\n",
       "      <td>1.863495</td>\n",
       "      <td>0.213170</td>\n",
       "      <td>1.029710</td>\n",
       "      <td>-1.142185</td>\n",
       "      <td>-4.466191</td>\n",
       "      <td>2</td>\n",
       "      <td>41</td>\n",
       "      <td>menu6</td>\n",
       "      <td>menu2</td>\n",
       "      <td>menu1</td>\n",
       "    </tr>\n",
       "    <tr>\n",
       "      <th>4</th>\n",
       "      <td>7818c92a58af0f2cb7c361738</td>\n",
       "      <td>10</td>\n",
       "      <td>3344.192</td>\n",
       "      <td>787.896</td>\n",
       "      <td>715.115</td>\n",
       "      <td>VODAFONE TR</td>\n",
       "      <td>samsung</td>\n",
       "      <td>-2.922361</td>\n",
       "      <td>2.096124</td>\n",
       "      <td>0.060796</td>\n",
       "      <td>...</td>\n",
       "      <td>1.024499</td>\n",
       "      <td>-0.186423</td>\n",
       "      <td>-0.061626</td>\n",
       "      <td>-1.462175</td>\n",
       "      <td>-2.371206</td>\n",
       "      <td>23</td>\n",
       "      <td>85</td>\n",
       "      <td>menu6</td>\n",
       "      <td>menu2</td>\n",
       "      <td>menu8</td>\n",
       "    </tr>\n",
       "  </tbody>\n",
       "</table>\n",
       "<p>5 rows × 60 columns</p>\n",
       "</div>"
      ],
      "text/plain": [
       "                          id  month  n_seconds_1  n_seconds_2  n_seconds_3  \\\n",
       "0  5beefd4d2bf4a4767e0df8108     10     5245.571      981.182      205.948   \n",
       "1  867285b116c063d5a8482f5be     10     5184.876      557.650      487.587   \n",
       "2  c82a7cbd2e00d9b66c06bcadc     10     3835.618     3275.128       43.806   \n",
       "3  f2d2b25073ccc298eced86897     10     3532.544      154.509       64.724   \n",
       "4  7818c92a58af0f2cb7c361738     10     3344.192      787.896      715.115   \n",
       "\n",
       "        carrier devicebrand  feature_0  feature_1  feature_2  ...  feature_43  \\\n",
       "0   VODAFONE TR       Apple  -1.197737   1.113360  -1.123334  ...    2.645719   \n",
       "1      TURKCELL     samsung  -2.336352   2.567766  -0.494908  ...   -0.021547   \n",
       "2  TURK TELEKOM       Redmi  -2.561455   2.061736  -0.184511  ...    1.673868   \n",
       "3      TURKCELL     samsung  -2.529918   3.358050  -0.851366  ...    1.863495   \n",
       "4   VODAFONE TR     samsung  -2.922361   2.096124   0.060796  ...    1.024499   \n",
       "\n",
       "   feature_44  feature_45  feature_46  feature_47  feature_48  feature_49  \\\n",
       "0   -1.023478    1.658986   -1.559406   -2.161336          30          58   \n",
       "1   -0.195770    2.775513   -0.318980   -4.291473          21          45   \n",
       "2    0.631790    1.293131   -2.230909   -2.383524          19          61   \n",
       "3    0.213170    1.029710   -1.142185   -4.466191           2          41   \n",
       "4   -0.186423   -0.061626   -1.462175   -2.371206          23          85   \n",
       "\n",
       "   first_menu  second_menu  third_menu  \n",
       "0       menu2        menu4       menu5  \n",
       "1       menu7        menu8       menu4  \n",
       "2       menu2        menu8       menu4  \n",
       "3       menu6        menu2       menu1  \n",
       "4       menu6        menu2       menu8  \n",
       "\n",
       "[5 rows x 60 columns]"
      ]
     },
     "execution_count": 7,
     "metadata": {},
     "output_type": "execute_result"
    }
   ],
   "source": [
    "new_data.head()"
   ]
  },
  {
   "cell_type": "code",
   "execution_count": null,
   "id": "858117e4",
   "metadata": {},
   "outputs": [],
   "source": [
    "type(data[\"target\"])"
   ]
  },
  {
   "cell_type": "code",
   "execution_count": 8,
   "id": "d807b591",
   "metadata": {},
   "outputs": [
    {
     "data": {
      "text/plain": [
       "pandas.core.arrays.numpy_.PandasArray"
      ]
     },
     "execution_count": 8,
     "metadata": {},
     "output_type": "execute_result"
    }
   ],
   "source": [
    "type(pd.array(data[\"target\"]))"
   ]
  },
  {
   "cell_type": "code",
   "execution_count": 8,
   "id": "68211c22",
   "metadata": {},
   "outputs": [],
   "source": [
    "lb = LabelBinarizer()\n",
    "transformed_data_first = lb.fit_transform(new_data[\"first_menu\"])\n",
    "transformed_data_second = lb.fit_transform(new_data[\"second_menu\"])\n",
    "transformed_data_third = lb.fit_transform(new_data[\"third_menu\"])"
   ]
  },
  {
   "cell_type": "code",
   "execution_count": 104,
   "id": "bfd318e4",
   "metadata": {},
   "outputs": [
    {
     "data": {
      "text/plain": [
       "array([' menu5', ' menu4', ' menu1', ' menu8', ' menu9', ' menu6',\n",
       "       ' menu2', ' menu7'], dtype=object)"
      ]
     },
     "execution_count": 104,
     "metadata": {},
     "output_type": "execute_result"
    }
   ],
   "source": [
    "new_data[\"third_menu\"].unique()"
   ]
  },
  {
   "cell_type": "code",
   "execution_count": 105,
   "id": "17f34ebf",
   "metadata": {},
   "outputs": [
    {
     "data": {
      "text/plain": [
       "array([' menu4', ' menu8', ' menu2', ' menu1', ' menu3', ' menu7',\n",
       "       ' menu6', ' menu9'], dtype=object)"
      ]
     },
     "execution_count": 105,
     "metadata": {},
     "output_type": "execute_result"
    }
   ],
   "source": [
    "new_data[\"second_menu\"].unique()"
   ]
  },
  {
   "cell_type": "code",
   "execution_count": 106,
   "id": "f985977d",
   "metadata": {},
   "outputs": [
    {
     "data": {
      "text/plain": [
       "(94049, 9)"
      ]
     },
     "execution_count": 106,
     "metadata": {},
     "output_type": "execute_result"
    }
   ],
   "source": [
    "transformed_data_first.shape"
   ]
  },
  {
   "cell_type": "code",
   "execution_count": 9,
   "id": "9002dfd5",
   "metadata": {},
   "outputs": [
    {
     "data": {
      "text/plain": [
       "array([0, 1, 0, 0, 0, 0, 0, 0, 0])"
      ]
     },
     "execution_count": 9,
     "metadata": {},
     "output_type": "execute_result"
    }
   ],
   "source": [
    "transformed_data_first[0]"
   ]
  },
  {
   "cell_type": "code",
   "execution_count": 107,
   "id": "33393f28",
   "metadata": {},
   "outputs": [
    {
     "data": {
      "text/plain": [
       "array([0, 0, 0, 1, 0, 0, 0, 0])"
      ]
     },
     "execution_count": 107,
     "metadata": {},
     "output_type": "execute_result"
    }
   ],
   "source": [
    "transformed_data_second[0]"
   ]
  },
  {
   "cell_type": "code",
   "execution_count": 10,
   "id": "b62d558b",
   "metadata": {},
   "outputs": [],
   "source": [
    "transformed_data_second = [np.insert(row, 4, 0) for row in transformed_data_second]\n",
    "transformed_data_third = [np.insert(row, 2, 0) for row in transformed_data_third]"
   ]
  },
  {
   "cell_type": "code",
   "execution_count": 11,
   "id": "cb91e267",
   "metadata": {},
   "outputs": [
    {
     "data": {
      "text/plain": [
       "(94049, 60)"
      ]
     },
     "execution_count": 11,
     "metadata": {},
     "output_type": "execute_result"
    }
   ],
   "source": [
    "new_data.shape"
   ]
  },
  {
   "cell_type": "code",
   "execution_count": 12,
   "id": "79d446af",
   "metadata": {},
   "outputs": [],
   "source": [
    "new_data_k = new_data"
   ]
  },
  {
   "cell_type": "code",
   "execution_count": 13,
   "id": "5758a1b1",
   "metadata": {},
   "outputs": [
    {
     "data": {
      "text/html": [
       "<div>\n",
       "<style scoped>\n",
       "    .dataframe tbody tr th:only-of-type {\n",
       "        vertical-align: middle;\n",
       "    }\n",
       "\n",
       "    .dataframe tbody tr th {\n",
       "        vertical-align: top;\n",
       "    }\n",
       "\n",
       "    .dataframe thead th {\n",
       "        text-align: right;\n",
       "    }\n",
       "</style>\n",
       "<table border=\"1\" class=\"dataframe\">\n",
       "  <thead>\n",
       "    <tr style=\"text-align: right;\">\n",
       "      <th></th>\n",
       "      <th>id</th>\n",
       "      <th>month</th>\n",
       "      <th>n_seconds_1</th>\n",
       "      <th>n_seconds_2</th>\n",
       "      <th>n_seconds_3</th>\n",
       "      <th>carrier</th>\n",
       "      <th>devicebrand</th>\n",
       "      <th>feature_0</th>\n",
       "      <th>feature_1</th>\n",
       "      <th>feature_2</th>\n",
       "      <th>...</th>\n",
       "      <th>feature_43</th>\n",
       "      <th>feature_44</th>\n",
       "      <th>feature_45</th>\n",
       "      <th>feature_46</th>\n",
       "      <th>feature_47</th>\n",
       "      <th>feature_48</th>\n",
       "      <th>feature_49</th>\n",
       "      <th>first_menu</th>\n",
       "      <th>second_menu</th>\n",
       "      <th>third_menu</th>\n",
       "    </tr>\n",
       "  </thead>\n",
       "  <tbody>\n",
       "    <tr>\n",
       "      <th>0</th>\n",
       "      <td>5beefd4d2bf4a4767e0df8108</td>\n",
       "      <td>10</td>\n",
       "      <td>5245.571</td>\n",
       "      <td>981.182</td>\n",
       "      <td>205.948</td>\n",
       "      <td>VODAFONE TR</td>\n",
       "      <td>Apple</td>\n",
       "      <td>-1.197737</td>\n",
       "      <td>1.113360</td>\n",
       "      <td>-1.123334</td>\n",
       "      <td>...</td>\n",
       "      <td>2.645719</td>\n",
       "      <td>-1.023478</td>\n",
       "      <td>1.658986</td>\n",
       "      <td>-1.559406</td>\n",
       "      <td>-2.161336</td>\n",
       "      <td>30</td>\n",
       "      <td>58</td>\n",
       "      <td>menu2</td>\n",
       "      <td>menu4</td>\n",
       "      <td>menu5</td>\n",
       "    </tr>\n",
       "    <tr>\n",
       "      <th>1</th>\n",
       "      <td>867285b116c063d5a8482f5be</td>\n",
       "      <td>10</td>\n",
       "      <td>5184.876</td>\n",
       "      <td>557.650</td>\n",
       "      <td>487.587</td>\n",
       "      <td>TURKCELL</td>\n",
       "      <td>samsung</td>\n",
       "      <td>-2.336352</td>\n",
       "      <td>2.567766</td>\n",
       "      <td>-0.494908</td>\n",
       "      <td>...</td>\n",
       "      <td>-0.021547</td>\n",
       "      <td>-0.195770</td>\n",
       "      <td>2.775513</td>\n",
       "      <td>-0.318980</td>\n",
       "      <td>-4.291473</td>\n",
       "      <td>21</td>\n",
       "      <td>45</td>\n",
       "      <td>menu7</td>\n",
       "      <td>menu8</td>\n",
       "      <td>menu4</td>\n",
       "    </tr>\n",
       "    <tr>\n",
       "      <th>2</th>\n",
       "      <td>c82a7cbd2e00d9b66c06bcadc</td>\n",
       "      <td>10</td>\n",
       "      <td>3835.618</td>\n",
       "      <td>3275.128</td>\n",
       "      <td>43.806</td>\n",
       "      <td>TURK TELEKOM</td>\n",
       "      <td>Redmi</td>\n",
       "      <td>-2.561455</td>\n",
       "      <td>2.061736</td>\n",
       "      <td>-0.184511</td>\n",
       "      <td>...</td>\n",
       "      <td>1.673868</td>\n",
       "      <td>0.631790</td>\n",
       "      <td>1.293131</td>\n",
       "      <td>-2.230909</td>\n",
       "      <td>-2.383524</td>\n",
       "      <td>19</td>\n",
       "      <td>61</td>\n",
       "      <td>menu2</td>\n",
       "      <td>menu8</td>\n",
       "      <td>menu4</td>\n",
       "    </tr>\n",
       "    <tr>\n",
       "      <th>3</th>\n",
       "      <td>f2d2b25073ccc298eced86897</td>\n",
       "      <td>10</td>\n",
       "      <td>3532.544</td>\n",
       "      <td>154.509</td>\n",
       "      <td>64.724</td>\n",
       "      <td>TURKCELL</td>\n",
       "      <td>samsung</td>\n",
       "      <td>-2.529918</td>\n",
       "      <td>3.358050</td>\n",
       "      <td>-0.851366</td>\n",
       "      <td>...</td>\n",
       "      <td>1.863495</td>\n",
       "      <td>0.213170</td>\n",
       "      <td>1.029710</td>\n",
       "      <td>-1.142185</td>\n",
       "      <td>-4.466191</td>\n",
       "      <td>2</td>\n",
       "      <td>41</td>\n",
       "      <td>menu6</td>\n",
       "      <td>menu2</td>\n",
       "      <td>menu1</td>\n",
       "    </tr>\n",
       "    <tr>\n",
       "      <th>4</th>\n",
       "      <td>7818c92a58af0f2cb7c361738</td>\n",
       "      <td>10</td>\n",
       "      <td>3344.192</td>\n",
       "      <td>787.896</td>\n",
       "      <td>715.115</td>\n",
       "      <td>VODAFONE TR</td>\n",
       "      <td>samsung</td>\n",
       "      <td>-2.922361</td>\n",
       "      <td>2.096124</td>\n",
       "      <td>0.060796</td>\n",
       "      <td>...</td>\n",
       "      <td>1.024499</td>\n",
       "      <td>-0.186423</td>\n",
       "      <td>-0.061626</td>\n",
       "      <td>-1.462175</td>\n",
       "      <td>-2.371206</td>\n",
       "      <td>23</td>\n",
       "      <td>85</td>\n",
       "      <td>menu6</td>\n",
       "      <td>menu2</td>\n",
       "      <td>menu8</td>\n",
       "    </tr>\n",
       "  </tbody>\n",
       "</table>\n",
       "<p>5 rows × 60 columns</p>\n",
       "</div>"
      ],
      "text/plain": [
       "                          id  month  n_seconds_1  n_seconds_2  n_seconds_3  \\\n",
       "0  5beefd4d2bf4a4767e0df8108     10     5245.571      981.182      205.948   \n",
       "1  867285b116c063d5a8482f5be     10     5184.876      557.650      487.587   \n",
       "2  c82a7cbd2e00d9b66c06bcadc     10     3835.618     3275.128       43.806   \n",
       "3  f2d2b25073ccc298eced86897     10     3532.544      154.509       64.724   \n",
       "4  7818c92a58af0f2cb7c361738     10     3344.192      787.896      715.115   \n",
       "\n",
       "        carrier devicebrand  feature_0  feature_1  feature_2  ...  feature_43  \\\n",
       "0   VODAFONE TR       Apple  -1.197737   1.113360  -1.123334  ...    2.645719   \n",
       "1      TURKCELL     samsung  -2.336352   2.567766  -0.494908  ...   -0.021547   \n",
       "2  TURK TELEKOM       Redmi  -2.561455   2.061736  -0.184511  ...    1.673868   \n",
       "3      TURKCELL     samsung  -2.529918   3.358050  -0.851366  ...    1.863495   \n",
       "4   VODAFONE TR     samsung  -2.922361   2.096124   0.060796  ...    1.024499   \n",
       "\n",
       "   feature_44  feature_45  feature_46  feature_47  feature_48  feature_49  \\\n",
       "0   -1.023478    1.658986   -1.559406   -2.161336          30          58   \n",
       "1   -0.195770    2.775513   -0.318980   -4.291473          21          45   \n",
       "2    0.631790    1.293131   -2.230909   -2.383524          19          61   \n",
       "3    0.213170    1.029710   -1.142185   -4.466191           2          41   \n",
       "4   -0.186423   -0.061626   -1.462175   -2.371206          23          85   \n",
       "\n",
       "   first_menu  second_menu  third_menu  \n",
       "0       menu2        menu4       menu5  \n",
       "1       menu7        menu8       menu4  \n",
       "2       menu2        menu8       menu4  \n",
       "3       menu6        menu2       menu1  \n",
       "4       menu6        menu2       menu8  \n",
       "\n",
       "[5 rows x 60 columns]"
      ]
     },
     "execution_count": 13,
     "metadata": {},
     "output_type": "execute_result"
    }
   ],
   "source": [
    "new_data.head()"
   ]
  },
  {
   "cell_type": "code",
   "execution_count": 10,
   "id": "10443e48",
   "metadata": {},
   "outputs": [
    {
     "data": {
      "text/plain": [
       "array([[0, 1, 0, 0, 0, 0, 0, 0, 0],\n",
       "       [0, 0, 0, 0, 0, 0, 1, 0, 0],\n",
       "       [0, 1, 0, 0, 0, 0, 0, 0, 0],\n",
       "       [0, 0, 0, 0, 0, 1, 0, 0, 0],\n",
       "       [0, 0, 0, 0, 0, 1, 0, 0, 0]])"
      ]
     },
     "execution_count": 10,
     "metadata": {},
     "output_type": "execute_result"
    }
   ],
   "source": [
    "transformed_data_first[0:5]"
   ]
  },
  {
   "cell_type": "code",
   "execution_count": 11,
   "id": "d3c14b4b",
   "metadata": {},
   "outputs": [
    {
     "data": {
      "text/plain": [
       "[array([0, 0, 0, 0, 1, 0, 0, 0, 0]),\n",
       " array([0, 0, 0, 1, 0, 0, 0, 0, 0]),\n",
       " array([0, 0, 0, 1, 0, 0, 0, 0, 0]),\n",
       " array([1, 0, 0, 0, 0, 0, 0, 0, 0]),\n",
       " array([0, 0, 0, 0, 0, 0, 0, 1, 0])]"
      ]
     },
     "execution_count": 11,
     "metadata": {},
     "output_type": "execute_result"
    }
   ],
   "source": [
    "transformed_data_third[0:5]"
   ]
  },
  {
   "cell_type": "code",
   "execution_count": 14,
   "id": "085583c3",
   "metadata": {},
   "outputs": [],
   "source": [
    "transformed_data_list = [row.tolist() for row in transformed_data_first]\n",
    "\n",
    "# Listeyi Pandas Serisi'ne dönüştürme\n",
    "transformed_data_series = pd.Series(transformed_data_list)"
   ]
  },
  {
   "cell_type": "code",
   "execution_count": 15,
   "id": "850116b2",
   "metadata": {},
   "outputs": [],
   "source": [
    "transformed_data_list_second = [row.tolist() for row in transformed_data_second]\n",
    "\n",
    "# Listeyi Pandas Serisi'ne dönüştürme\n",
    "transformed_data_series_second = pd.Series(transformed_data_list_second)"
   ]
  },
  {
   "cell_type": "code",
   "execution_count": 16,
   "id": "010bfc3f",
   "metadata": {},
   "outputs": [],
   "source": [
    "transformed_data_list_third = [row.tolist() for row in transformed_data_third]\n",
    "\n",
    "# Listeyi Pandas Serisi'ne dönüştürme\n",
    "transformed_data_series_third = pd.Series(transformed_data_list_third)"
   ]
  },
  {
   "cell_type": "code",
   "execution_count": 81,
   "id": "3cac4e10",
   "metadata": {},
   "outputs": [
    {
     "data": {
      "text/plain": [
       "0        [0, 1, 0, 0, 0, 0, 0, 0, 0]\n",
       "1        [0, 0, 0, 0, 0, 0, 1, 0, 0]\n",
       "2        [0, 1, 0, 0, 0, 0, 0, 0, 0]\n",
       "3        [0, 0, 0, 0, 0, 1, 0, 0, 0]\n",
       "4        [0, 0, 0, 0, 0, 1, 0, 0, 0]\n",
       "                    ...             \n",
       "94044    [0, 1, 0, 0, 0, 0, 0, 0, 0]\n",
       "94045    [0, 0, 0, 0, 0, 0, 0, 0, 1]\n",
       "94046    [0, 0, 0, 0, 0, 1, 0, 0, 0]\n",
       "94047    [0, 0, 0, 0, 0, 1, 0, 0, 0]\n",
       "94048    [0, 0, 0, 0, 0, 1, 0, 0, 0]\n",
       "Length: 94049, dtype: object"
      ]
     },
     "execution_count": 81,
     "metadata": {},
     "output_type": "execute_result"
    }
   ],
   "source": [
    "transformed_data_series"
   ]
  },
  {
   "cell_type": "code",
   "execution_count": 57,
   "id": "a9de1128",
   "metadata": {},
   "outputs": [
    {
     "data": {
      "text/plain": [
       "(94049,)"
      ]
     },
     "execution_count": 57,
     "metadata": {},
     "output_type": "execute_result"
    }
   ],
   "source": [
    "new_data_k[\"first_menu\"].shape"
   ]
  },
  {
   "cell_type": "code",
   "execution_count": 58,
   "id": "00d4ecfd",
   "metadata": {},
   "outputs": [
    {
     "data": {
      "text/plain": [
       "(94049, 9)"
      ]
     },
     "execution_count": 58,
     "metadata": {},
     "output_type": "execute_result"
    }
   ],
   "source": [
    "transformed_data_first.shape"
   ]
  },
  {
   "cell_type": "code",
   "execution_count": 98,
   "id": "0c7b5b65",
   "metadata": {},
   "outputs": [
    {
     "data": {
      "text/plain": [
       "(94049, 8)"
      ]
     },
     "execution_count": 98,
     "metadata": {},
     "output_type": "execute_result"
    }
   ],
   "source": [
    "transformed_data_second.shape"
   ]
  },
  {
   "cell_type": "code",
   "execution_count": 99,
   "id": "ea7e3b4e",
   "metadata": {},
   "outputs": [
    {
     "data": {
      "text/plain": [
       "(94049, 8)"
      ]
     },
     "execution_count": 99,
     "metadata": {},
     "output_type": "execute_result"
    }
   ],
   "source": [
    "transformed_data_third.shape"
   ]
  },
  {
   "cell_type": "code",
   "execution_count": 17,
   "id": "2d4c54c9",
   "metadata": {},
   "outputs": [],
   "source": [
    "new_data_k[\"first_menu\"] = transformed_data_series\n",
    "new_data_k[\"second_menu\"] = transformed_data_series_second\n",
    "new_data_k[\"third_menu\"] = transformed_data_series_third"
   ]
  },
  {
   "cell_type": "code",
   "execution_count": 18,
   "id": "4438a88a",
   "metadata": {},
   "outputs": [
    {
     "data": {
      "text/plain": [
       "(94049, 60)"
      ]
     },
     "execution_count": 18,
     "metadata": {},
     "output_type": "execute_result"
    }
   ],
   "source": [
    "new_data_k.shape"
   ]
  },
  {
   "cell_type": "code",
   "execution_count": 19,
   "id": "579fd963",
   "metadata": {},
   "outputs": [
    {
     "data": {
      "text/html": [
       "<div>\n",
       "<style scoped>\n",
       "    .dataframe tbody tr th:only-of-type {\n",
       "        vertical-align: middle;\n",
       "    }\n",
       "\n",
       "    .dataframe tbody tr th {\n",
       "        vertical-align: top;\n",
       "    }\n",
       "\n",
       "    .dataframe thead th {\n",
       "        text-align: right;\n",
       "    }\n",
       "</style>\n",
       "<table border=\"1\" class=\"dataframe\">\n",
       "  <thead>\n",
       "    <tr style=\"text-align: right;\">\n",
       "      <th></th>\n",
       "      <th>id</th>\n",
       "      <th>month</th>\n",
       "      <th>n_seconds_1</th>\n",
       "      <th>n_seconds_2</th>\n",
       "      <th>n_seconds_3</th>\n",
       "      <th>carrier</th>\n",
       "      <th>devicebrand</th>\n",
       "      <th>feature_0</th>\n",
       "      <th>feature_1</th>\n",
       "      <th>feature_2</th>\n",
       "      <th>...</th>\n",
       "      <th>feature_43</th>\n",
       "      <th>feature_44</th>\n",
       "      <th>feature_45</th>\n",
       "      <th>feature_46</th>\n",
       "      <th>feature_47</th>\n",
       "      <th>feature_48</th>\n",
       "      <th>feature_49</th>\n",
       "      <th>first_menu</th>\n",
       "      <th>second_menu</th>\n",
       "      <th>third_menu</th>\n",
       "    </tr>\n",
       "  </thead>\n",
       "  <tbody>\n",
       "    <tr>\n",
       "      <th>0</th>\n",
       "      <td>5beefd4d2bf4a4767e0df8108</td>\n",
       "      <td>10</td>\n",
       "      <td>5245.571</td>\n",
       "      <td>981.182</td>\n",
       "      <td>205.948</td>\n",
       "      <td>VODAFONE TR</td>\n",
       "      <td>Apple</td>\n",
       "      <td>-1.197737</td>\n",
       "      <td>1.113360</td>\n",
       "      <td>-1.123334</td>\n",
       "      <td>...</td>\n",
       "      <td>2.645719</td>\n",
       "      <td>-1.023478</td>\n",
       "      <td>1.658986</td>\n",
       "      <td>-1.559406</td>\n",
       "      <td>-2.161336</td>\n",
       "      <td>30</td>\n",
       "      <td>58</td>\n",
       "      <td>[0, 1, 0, 0, 0, 0, 0, 0, 0]</td>\n",
       "      <td>[0, 0, 0, 1, 0, 0, 0, 0, 0]</td>\n",
       "      <td>[0, 0, 0, 0, 1, 0, 0, 0, 0]</td>\n",
       "    </tr>\n",
       "    <tr>\n",
       "      <th>1</th>\n",
       "      <td>867285b116c063d5a8482f5be</td>\n",
       "      <td>10</td>\n",
       "      <td>5184.876</td>\n",
       "      <td>557.650</td>\n",
       "      <td>487.587</td>\n",
       "      <td>TURKCELL</td>\n",
       "      <td>samsung</td>\n",
       "      <td>-2.336352</td>\n",
       "      <td>2.567766</td>\n",
       "      <td>-0.494908</td>\n",
       "      <td>...</td>\n",
       "      <td>-0.021547</td>\n",
       "      <td>-0.195770</td>\n",
       "      <td>2.775513</td>\n",
       "      <td>-0.318980</td>\n",
       "      <td>-4.291473</td>\n",
       "      <td>21</td>\n",
       "      <td>45</td>\n",
       "      <td>[0, 0, 0, 0, 0, 0, 1, 0, 0]</td>\n",
       "      <td>[0, 0, 0, 0, 0, 0, 0, 1, 0]</td>\n",
       "      <td>[0, 0, 0, 1, 0, 0, 0, 0, 0]</td>\n",
       "    </tr>\n",
       "    <tr>\n",
       "      <th>2</th>\n",
       "      <td>c82a7cbd2e00d9b66c06bcadc</td>\n",
       "      <td>10</td>\n",
       "      <td>3835.618</td>\n",
       "      <td>3275.128</td>\n",
       "      <td>43.806</td>\n",
       "      <td>TURK TELEKOM</td>\n",
       "      <td>Redmi</td>\n",
       "      <td>-2.561455</td>\n",
       "      <td>2.061736</td>\n",
       "      <td>-0.184511</td>\n",
       "      <td>...</td>\n",
       "      <td>1.673868</td>\n",
       "      <td>0.631790</td>\n",
       "      <td>1.293131</td>\n",
       "      <td>-2.230909</td>\n",
       "      <td>-2.383524</td>\n",
       "      <td>19</td>\n",
       "      <td>61</td>\n",
       "      <td>[0, 1, 0, 0, 0, 0, 0, 0, 0]</td>\n",
       "      <td>[0, 0, 0, 0, 0, 0, 0, 1, 0]</td>\n",
       "      <td>[0, 0, 0, 1, 0, 0, 0, 0, 0]</td>\n",
       "    </tr>\n",
       "    <tr>\n",
       "      <th>3</th>\n",
       "      <td>f2d2b25073ccc298eced86897</td>\n",
       "      <td>10</td>\n",
       "      <td>3532.544</td>\n",
       "      <td>154.509</td>\n",
       "      <td>64.724</td>\n",
       "      <td>TURKCELL</td>\n",
       "      <td>samsung</td>\n",
       "      <td>-2.529918</td>\n",
       "      <td>3.358050</td>\n",
       "      <td>-0.851366</td>\n",
       "      <td>...</td>\n",
       "      <td>1.863495</td>\n",
       "      <td>0.213170</td>\n",
       "      <td>1.029710</td>\n",
       "      <td>-1.142185</td>\n",
       "      <td>-4.466191</td>\n",
       "      <td>2</td>\n",
       "      <td>41</td>\n",
       "      <td>[0, 0, 0, 0, 0, 1, 0, 0, 0]</td>\n",
       "      <td>[0, 1, 0, 0, 0, 0, 0, 0, 0]</td>\n",
       "      <td>[1, 0, 0, 0, 0, 0, 0, 0, 0]</td>\n",
       "    </tr>\n",
       "    <tr>\n",
       "      <th>4</th>\n",
       "      <td>7818c92a58af0f2cb7c361738</td>\n",
       "      <td>10</td>\n",
       "      <td>3344.192</td>\n",
       "      <td>787.896</td>\n",
       "      <td>715.115</td>\n",
       "      <td>VODAFONE TR</td>\n",
       "      <td>samsung</td>\n",
       "      <td>-2.922361</td>\n",
       "      <td>2.096124</td>\n",
       "      <td>0.060796</td>\n",
       "      <td>...</td>\n",
       "      <td>1.024499</td>\n",
       "      <td>-0.186423</td>\n",
       "      <td>-0.061626</td>\n",
       "      <td>-1.462175</td>\n",
       "      <td>-2.371206</td>\n",
       "      <td>23</td>\n",
       "      <td>85</td>\n",
       "      <td>[0, 0, 0, 0, 0, 1, 0, 0, 0]</td>\n",
       "      <td>[0, 1, 0, 0, 0, 0, 0, 0, 0]</td>\n",
       "      <td>[0, 0, 0, 0, 0, 0, 0, 1, 0]</td>\n",
       "    </tr>\n",
       "  </tbody>\n",
       "</table>\n",
       "<p>5 rows × 60 columns</p>\n",
       "</div>"
      ],
      "text/plain": [
       "                          id  month  n_seconds_1  n_seconds_2  n_seconds_3  \\\n",
       "0  5beefd4d2bf4a4767e0df8108     10     5245.571      981.182      205.948   \n",
       "1  867285b116c063d5a8482f5be     10     5184.876      557.650      487.587   \n",
       "2  c82a7cbd2e00d9b66c06bcadc     10     3835.618     3275.128       43.806   \n",
       "3  f2d2b25073ccc298eced86897     10     3532.544      154.509       64.724   \n",
       "4  7818c92a58af0f2cb7c361738     10     3344.192      787.896      715.115   \n",
       "\n",
       "        carrier devicebrand  feature_0  feature_1  feature_2  ...  feature_43  \\\n",
       "0   VODAFONE TR       Apple  -1.197737   1.113360  -1.123334  ...    2.645719   \n",
       "1      TURKCELL     samsung  -2.336352   2.567766  -0.494908  ...   -0.021547   \n",
       "2  TURK TELEKOM       Redmi  -2.561455   2.061736  -0.184511  ...    1.673868   \n",
       "3      TURKCELL     samsung  -2.529918   3.358050  -0.851366  ...    1.863495   \n",
       "4   VODAFONE TR     samsung  -2.922361   2.096124   0.060796  ...    1.024499   \n",
       "\n",
       "   feature_44  feature_45  feature_46  feature_47  feature_48  feature_49  \\\n",
       "0   -1.023478    1.658986   -1.559406   -2.161336          30          58   \n",
       "1   -0.195770    2.775513   -0.318980   -4.291473          21          45   \n",
       "2    0.631790    1.293131   -2.230909   -2.383524          19          61   \n",
       "3    0.213170    1.029710   -1.142185   -4.466191           2          41   \n",
       "4   -0.186423   -0.061626   -1.462175   -2.371206          23          85   \n",
       "\n",
       "                    first_menu                  second_menu  \\\n",
       "0  [0, 1, 0, 0, 0, 0, 0, 0, 0]  [0, 0, 0, 1, 0, 0, 0, 0, 0]   \n",
       "1  [0, 0, 0, 0, 0, 0, 1, 0, 0]  [0, 0, 0, 0, 0, 0, 0, 1, 0]   \n",
       "2  [0, 1, 0, 0, 0, 0, 0, 0, 0]  [0, 0, 0, 0, 0, 0, 0, 1, 0]   \n",
       "3  [0, 0, 0, 0, 0, 1, 0, 0, 0]  [0, 1, 0, 0, 0, 0, 0, 0, 0]   \n",
       "4  [0, 0, 0, 0, 0, 1, 0, 0, 0]  [0, 1, 0, 0, 0, 0, 0, 0, 0]   \n",
       "\n",
       "                    third_menu  \n",
       "0  [0, 0, 0, 0, 1, 0, 0, 0, 0]  \n",
       "1  [0, 0, 0, 1, 0, 0, 0, 0, 0]  \n",
       "2  [0, 0, 0, 1, 0, 0, 0, 0, 0]  \n",
       "3  [1, 0, 0, 0, 0, 0, 0, 0, 0]  \n",
       "4  [0, 0, 0, 0, 0, 0, 0, 1, 0]  \n",
       "\n",
       "[5 rows x 60 columns]"
      ]
     },
     "execution_count": 19,
     "metadata": {},
     "output_type": "execute_result"
    }
   ],
   "source": [
    "new_data_k.head()"
   ]
  },
  {
   "cell_type": "code",
   "execution_count": 29,
   "id": "481480c8",
   "metadata": {},
   "outputs": [],
   "source": [
    "new_data_k['target'] = new_data_k.apply(lambda row: [1 if any(x) else 0 for x in zip(*row[['first_menu', 'second_menu', 'third_menu']])], axis=1)"
   ]
  },
  {
   "cell_type": "code",
   "execution_count": 30,
   "id": "abd3033b",
   "metadata": {},
   "outputs": [
    {
     "data": {
      "text/html": [
       "<div>\n",
       "<style scoped>\n",
       "    .dataframe tbody tr th:only-of-type {\n",
       "        vertical-align: middle;\n",
       "    }\n",
       "\n",
       "    .dataframe tbody tr th {\n",
       "        vertical-align: top;\n",
       "    }\n",
       "\n",
       "    .dataframe thead th {\n",
       "        text-align: right;\n",
       "    }\n",
       "</style>\n",
       "<table border=\"1\" class=\"dataframe\">\n",
       "  <thead>\n",
       "    <tr style=\"text-align: right;\">\n",
       "      <th></th>\n",
       "      <th>id</th>\n",
       "      <th>month</th>\n",
       "      <th>n_seconds_1</th>\n",
       "      <th>n_seconds_2</th>\n",
       "      <th>n_seconds_3</th>\n",
       "      <th>carrier</th>\n",
       "      <th>devicebrand</th>\n",
       "      <th>feature_0</th>\n",
       "      <th>feature_1</th>\n",
       "      <th>feature_2</th>\n",
       "      <th>...</th>\n",
       "      <th>feature_44</th>\n",
       "      <th>feature_45</th>\n",
       "      <th>feature_46</th>\n",
       "      <th>feature_47</th>\n",
       "      <th>feature_48</th>\n",
       "      <th>feature_49</th>\n",
       "      <th>first_menu</th>\n",
       "      <th>second_menu</th>\n",
       "      <th>third_menu</th>\n",
       "      <th>Target</th>\n",
       "    </tr>\n",
       "  </thead>\n",
       "  <tbody>\n",
       "    <tr>\n",
       "      <th>0</th>\n",
       "      <td>5beefd4d2bf4a4767e0df8108</td>\n",
       "      <td>10</td>\n",
       "      <td>5245.571</td>\n",
       "      <td>981.182</td>\n",
       "      <td>205.948</td>\n",
       "      <td>VODAFONE TR</td>\n",
       "      <td>Apple</td>\n",
       "      <td>-1.197737</td>\n",
       "      <td>1.113360</td>\n",
       "      <td>-1.123334</td>\n",
       "      <td>...</td>\n",
       "      <td>-1.023478</td>\n",
       "      <td>1.658986</td>\n",
       "      <td>-1.559406</td>\n",
       "      <td>-2.161336</td>\n",
       "      <td>30</td>\n",
       "      <td>58</td>\n",
       "      <td>[0, 1, 0, 0, 0, 0, 0, 0, 0]</td>\n",
       "      <td>[0, 0, 0, 1, 0, 0, 0, 0, 0]</td>\n",
       "      <td>[0, 0, 0, 0, 1, 0, 0, 0, 0]</td>\n",
       "      <td>[0, 1, 0, 1, 1, 0, 0, 0, 0]</td>\n",
       "    </tr>\n",
       "    <tr>\n",
       "      <th>1</th>\n",
       "      <td>867285b116c063d5a8482f5be</td>\n",
       "      <td>10</td>\n",
       "      <td>5184.876</td>\n",
       "      <td>557.650</td>\n",
       "      <td>487.587</td>\n",
       "      <td>TURKCELL</td>\n",
       "      <td>samsung</td>\n",
       "      <td>-2.336352</td>\n",
       "      <td>2.567766</td>\n",
       "      <td>-0.494908</td>\n",
       "      <td>...</td>\n",
       "      <td>-0.195770</td>\n",
       "      <td>2.775513</td>\n",
       "      <td>-0.318980</td>\n",
       "      <td>-4.291473</td>\n",
       "      <td>21</td>\n",
       "      <td>45</td>\n",
       "      <td>[0, 0, 0, 0, 0, 0, 1, 0, 0]</td>\n",
       "      <td>[0, 0, 0, 0, 0, 0, 0, 1, 0]</td>\n",
       "      <td>[0, 0, 0, 1, 0, 0, 0, 0, 0]</td>\n",
       "      <td>[0, 0, 0, 1, 0, 0, 1, 1, 0]</td>\n",
       "    </tr>\n",
       "    <tr>\n",
       "      <th>2</th>\n",
       "      <td>c82a7cbd2e00d9b66c06bcadc</td>\n",
       "      <td>10</td>\n",
       "      <td>3835.618</td>\n",
       "      <td>3275.128</td>\n",
       "      <td>43.806</td>\n",
       "      <td>TURK TELEKOM</td>\n",
       "      <td>Redmi</td>\n",
       "      <td>-2.561455</td>\n",
       "      <td>2.061736</td>\n",
       "      <td>-0.184511</td>\n",
       "      <td>...</td>\n",
       "      <td>0.631790</td>\n",
       "      <td>1.293131</td>\n",
       "      <td>-2.230909</td>\n",
       "      <td>-2.383524</td>\n",
       "      <td>19</td>\n",
       "      <td>61</td>\n",
       "      <td>[0, 1, 0, 0, 0, 0, 0, 0, 0]</td>\n",
       "      <td>[0, 0, 0, 0, 0, 0, 0, 1, 0]</td>\n",
       "      <td>[0, 0, 0, 1, 0, 0, 0, 0, 0]</td>\n",
       "      <td>[0, 1, 0, 1, 0, 0, 0, 1, 0]</td>\n",
       "    </tr>\n",
       "    <tr>\n",
       "      <th>3</th>\n",
       "      <td>f2d2b25073ccc298eced86897</td>\n",
       "      <td>10</td>\n",
       "      <td>3532.544</td>\n",
       "      <td>154.509</td>\n",
       "      <td>64.724</td>\n",
       "      <td>TURKCELL</td>\n",
       "      <td>samsung</td>\n",
       "      <td>-2.529918</td>\n",
       "      <td>3.358050</td>\n",
       "      <td>-0.851366</td>\n",
       "      <td>...</td>\n",
       "      <td>0.213170</td>\n",
       "      <td>1.029710</td>\n",
       "      <td>-1.142185</td>\n",
       "      <td>-4.466191</td>\n",
       "      <td>2</td>\n",
       "      <td>41</td>\n",
       "      <td>[0, 0, 0, 0, 0, 1, 0, 0, 0]</td>\n",
       "      <td>[0, 1, 0, 0, 0, 0, 0, 0, 0]</td>\n",
       "      <td>[1, 0, 0, 0, 0, 0, 0, 0, 0]</td>\n",
       "      <td>[1, 1, 0, 0, 0, 1, 0, 0, 0]</td>\n",
       "    </tr>\n",
       "    <tr>\n",
       "      <th>4</th>\n",
       "      <td>7818c92a58af0f2cb7c361738</td>\n",
       "      <td>10</td>\n",
       "      <td>3344.192</td>\n",
       "      <td>787.896</td>\n",
       "      <td>715.115</td>\n",
       "      <td>VODAFONE TR</td>\n",
       "      <td>samsung</td>\n",
       "      <td>-2.922361</td>\n",
       "      <td>2.096124</td>\n",
       "      <td>0.060796</td>\n",
       "      <td>...</td>\n",
       "      <td>-0.186423</td>\n",
       "      <td>-0.061626</td>\n",
       "      <td>-1.462175</td>\n",
       "      <td>-2.371206</td>\n",
       "      <td>23</td>\n",
       "      <td>85</td>\n",
       "      <td>[0, 0, 0, 0, 0, 1, 0, 0, 0]</td>\n",
       "      <td>[0, 1, 0, 0, 0, 0, 0, 0, 0]</td>\n",
       "      <td>[0, 0, 0, 0, 0, 0, 0, 1, 0]</td>\n",
       "      <td>[0, 1, 0, 0, 0, 1, 0, 1, 0]</td>\n",
       "    </tr>\n",
       "  </tbody>\n",
       "</table>\n",
       "<p>5 rows × 61 columns</p>\n",
       "</div>"
      ],
      "text/plain": [
       "                          id  month  n_seconds_1  n_seconds_2  n_seconds_3  \\\n",
       "0  5beefd4d2bf4a4767e0df8108     10     5245.571      981.182      205.948   \n",
       "1  867285b116c063d5a8482f5be     10     5184.876      557.650      487.587   \n",
       "2  c82a7cbd2e00d9b66c06bcadc     10     3835.618     3275.128       43.806   \n",
       "3  f2d2b25073ccc298eced86897     10     3532.544      154.509       64.724   \n",
       "4  7818c92a58af0f2cb7c361738     10     3344.192      787.896      715.115   \n",
       "\n",
       "        carrier devicebrand  feature_0  feature_1  feature_2  ...  feature_44  \\\n",
       "0   VODAFONE TR       Apple  -1.197737   1.113360  -1.123334  ...   -1.023478   \n",
       "1      TURKCELL     samsung  -2.336352   2.567766  -0.494908  ...   -0.195770   \n",
       "2  TURK TELEKOM       Redmi  -2.561455   2.061736  -0.184511  ...    0.631790   \n",
       "3      TURKCELL     samsung  -2.529918   3.358050  -0.851366  ...    0.213170   \n",
       "4   VODAFONE TR     samsung  -2.922361   2.096124   0.060796  ...   -0.186423   \n",
       "\n",
       "   feature_45  feature_46  feature_47  feature_48  feature_49  \\\n",
       "0    1.658986   -1.559406   -2.161336          30          58   \n",
       "1    2.775513   -0.318980   -4.291473          21          45   \n",
       "2    1.293131   -2.230909   -2.383524          19          61   \n",
       "3    1.029710   -1.142185   -4.466191           2          41   \n",
       "4   -0.061626   -1.462175   -2.371206          23          85   \n",
       "\n",
       "                    first_menu                  second_menu  \\\n",
       "0  [0, 1, 0, 0, 0, 0, 0, 0, 0]  [0, 0, 0, 1, 0, 0, 0, 0, 0]   \n",
       "1  [0, 0, 0, 0, 0, 0, 1, 0, 0]  [0, 0, 0, 0, 0, 0, 0, 1, 0]   \n",
       "2  [0, 1, 0, 0, 0, 0, 0, 0, 0]  [0, 0, 0, 0, 0, 0, 0, 1, 0]   \n",
       "3  [0, 0, 0, 0, 0, 1, 0, 0, 0]  [0, 1, 0, 0, 0, 0, 0, 0, 0]   \n",
       "4  [0, 0, 0, 0, 0, 1, 0, 0, 0]  [0, 1, 0, 0, 0, 0, 0, 0, 0]   \n",
       "\n",
       "                    third_menu                       Target  \n",
       "0  [0, 0, 0, 0, 1, 0, 0, 0, 0]  [0, 1, 0, 1, 1, 0, 0, 0, 0]  \n",
       "1  [0, 0, 0, 1, 0, 0, 0, 0, 0]  [0, 0, 0, 1, 0, 0, 1, 1, 0]  \n",
       "2  [0, 0, 0, 1, 0, 0, 0, 0, 0]  [0, 1, 0, 1, 0, 0, 0, 1, 0]  \n",
       "3  [1, 0, 0, 0, 0, 0, 0, 0, 0]  [1, 1, 0, 0, 0, 1, 0, 0, 0]  \n",
       "4  [0, 0, 0, 0, 0, 0, 0, 1, 0]  [0, 1, 0, 0, 0, 1, 0, 1, 0]  \n",
       "\n",
       "[5 rows x 61 columns]"
      ]
     },
     "execution_count": 30,
     "metadata": {},
     "output_type": "execute_result"
    }
   ],
   "source": [
    "new_data_k.head()"
   ]
  },
  {
   "cell_type": "code",
   "execution_count": 31,
   "id": "bc56e045",
   "metadata": {},
   "outputs": [],
   "source": [
    "new_data_k.drop(\"first_menu\", inplace=True, axis=1)\n",
    "new_data_k.drop(\"second_menu\", inplace=True, axis=1)\n",
    "new_data_k.drop(\"third_menu\", inplace=True, axis=1)"
   ]
  },
  {
   "cell_type": "code",
   "execution_count": 32,
   "id": "f51543d9",
   "metadata": {},
   "outputs": [
    {
     "data": {
      "text/html": [
       "<div>\n",
       "<style scoped>\n",
       "    .dataframe tbody tr th:only-of-type {\n",
       "        vertical-align: middle;\n",
       "    }\n",
       "\n",
       "    .dataframe tbody tr th {\n",
       "        vertical-align: top;\n",
       "    }\n",
       "\n",
       "    .dataframe thead th {\n",
       "        text-align: right;\n",
       "    }\n",
       "</style>\n",
       "<table border=\"1\" class=\"dataframe\">\n",
       "  <thead>\n",
       "    <tr style=\"text-align: right;\">\n",
       "      <th></th>\n",
       "      <th>id</th>\n",
       "      <th>month</th>\n",
       "      <th>n_seconds_1</th>\n",
       "      <th>n_seconds_2</th>\n",
       "      <th>n_seconds_3</th>\n",
       "      <th>carrier</th>\n",
       "      <th>devicebrand</th>\n",
       "      <th>feature_0</th>\n",
       "      <th>feature_1</th>\n",
       "      <th>feature_2</th>\n",
       "      <th>...</th>\n",
       "      <th>feature_41</th>\n",
       "      <th>feature_42</th>\n",
       "      <th>feature_43</th>\n",
       "      <th>feature_44</th>\n",
       "      <th>feature_45</th>\n",
       "      <th>feature_46</th>\n",
       "      <th>feature_47</th>\n",
       "      <th>feature_48</th>\n",
       "      <th>feature_49</th>\n",
       "      <th>Target</th>\n",
       "    </tr>\n",
       "  </thead>\n",
       "  <tbody>\n",
       "    <tr>\n",
       "      <th>0</th>\n",
       "      <td>5beefd4d2bf4a4767e0df8108</td>\n",
       "      <td>10</td>\n",
       "      <td>5245.571</td>\n",
       "      <td>981.182</td>\n",
       "      <td>205.948</td>\n",
       "      <td>VODAFONE TR</td>\n",
       "      <td>Apple</td>\n",
       "      <td>-1.197737</td>\n",
       "      <td>1.113360</td>\n",
       "      <td>-1.123334</td>\n",
       "      <td>...</td>\n",
       "      <td>-2.613336</td>\n",
       "      <td>-2.032903</td>\n",
       "      <td>2.645719</td>\n",
       "      <td>-1.023478</td>\n",
       "      <td>1.658986</td>\n",
       "      <td>-1.559406</td>\n",
       "      <td>-2.161336</td>\n",
       "      <td>30</td>\n",
       "      <td>58</td>\n",
       "      <td>[0, 1, 0, 1, 1, 0, 0, 0, 0]</td>\n",
       "    </tr>\n",
       "    <tr>\n",
       "      <th>1</th>\n",
       "      <td>867285b116c063d5a8482f5be</td>\n",
       "      <td>10</td>\n",
       "      <td>5184.876</td>\n",
       "      <td>557.650</td>\n",
       "      <td>487.587</td>\n",
       "      <td>TURKCELL</td>\n",
       "      <td>samsung</td>\n",
       "      <td>-2.336352</td>\n",
       "      <td>2.567766</td>\n",
       "      <td>-0.494908</td>\n",
       "      <td>...</td>\n",
       "      <td>-0.983938</td>\n",
       "      <td>-1.453756</td>\n",
       "      <td>-0.021547</td>\n",
       "      <td>-0.195770</td>\n",
       "      <td>2.775513</td>\n",
       "      <td>-0.318980</td>\n",
       "      <td>-4.291473</td>\n",
       "      <td>21</td>\n",
       "      <td>45</td>\n",
       "      <td>[0, 0, 0, 1, 0, 0, 1, 1, 0]</td>\n",
       "    </tr>\n",
       "    <tr>\n",
       "      <th>2</th>\n",
       "      <td>c82a7cbd2e00d9b66c06bcadc</td>\n",
       "      <td>10</td>\n",
       "      <td>3835.618</td>\n",
       "      <td>3275.128</td>\n",
       "      <td>43.806</td>\n",
       "      <td>TURK TELEKOM</td>\n",
       "      <td>Redmi</td>\n",
       "      <td>-2.561455</td>\n",
       "      <td>2.061736</td>\n",
       "      <td>-0.184511</td>\n",
       "      <td>...</td>\n",
       "      <td>-1.668703</td>\n",
       "      <td>-3.599403</td>\n",
       "      <td>1.673868</td>\n",
       "      <td>0.631790</td>\n",
       "      <td>1.293131</td>\n",
       "      <td>-2.230909</td>\n",
       "      <td>-2.383524</td>\n",
       "      <td>19</td>\n",
       "      <td>61</td>\n",
       "      <td>[0, 1, 0, 1, 0, 0, 0, 1, 0]</td>\n",
       "    </tr>\n",
       "    <tr>\n",
       "      <th>3</th>\n",
       "      <td>f2d2b25073ccc298eced86897</td>\n",
       "      <td>10</td>\n",
       "      <td>3532.544</td>\n",
       "      <td>154.509</td>\n",
       "      <td>64.724</td>\n",
       "      <td>TURKCELL</td>\n",
       "      <td>samsung</td>\n",
       "      <td>-2.529918</td>\n",
       "      <td>3.358050</td>\n",
       "      <td>-0.851366</td>\n",
       "      <td>...</td>\n",
       "      <td>-1.861418</td>\n",
       "      <td>-1.219658</td>\n",
       "      <td>1.863495</td>\n",
       "      <td>0.213170</td>\n",
       "      <td>1.029710</td>\n",
       "      <td>-1.142185</td>\n",
       "      <td>-4.466191</td>\n",
       "      <td>2</td>\n",
       "      <td>41</td>\n",
       "      <td>[1, 1, 0, 0, 0, 1, 0, 0, 0]</td>\n",
       "    </tr>\n",
       "    <tr>\n",
       "      <th>4</th>\n",
       "      <td>7818c92a58af0f2cb7c361738</td>\n",
       "      <td>10</td>\n",
       "      <td>3344.192</td>\n",
       "      <td>787.896</td>\n",
       "      <td>715.115</td>\n",
       "      <td>VODAFONE TR</td>\n",
       "      <td>samsung</td>\n",
       "      <td>-2.922361</td>\n",
       "      <td>2.096124</td>\n",
       "      <td>0.060796</td>\n",
       "      <td>...</td>\n",
       "      <td>-0.142903</td>\n",
       "      <td>-1.875545</td>\n",
       "      <td>1.024499</td>\n",
       "      <td>-0.186423</td>\n",
       "      <td>-0.061626</td>\n",
       "      <td>-1.462175</td>\n",
       "      <td>-2.371206</td>\n",
       "      <td>23</td>\n",
       "      <td>85</td>\n",
       "      <td>[0, 1, 0, 0, 0, 1, 0, 1, 0]</td>\n",
       "    </tr>\n",
       "  </tbody>\n",
       "</table>\n",
       "<p>5 rows × 58 columns</p>\n",
       "</div>"
      ],
      "text/plain": [
       "                          id  month  n_seconds_1  n_seconds_2  n_seconds_3  \\\n",
       "0  5beefd4d2bf4a4767e0df8108     10     5245.571      981.182      205.948   \n",
       "1  867285b116c063d5a8482f5be     10     5184.876      557.650      487.587   \n",
       "2  c82a7cbd2e00d9b66c06bcadc     10     3835.618     3275.128       43.806   \n",
       "3  f2d2b25073ccc298eced86897     10     3532.544      154.509       64.724   \n",
       "4  7818c92a58af0f2cb7c361738     10     3344.192      787.896      715.115   \n",
       "\n",
       "        carrier devicebrand  feature_0  feature_1  feature_2  ...  feature_41  \\\n",
       "0   VODAFONE TR       Apple  -1.197737   1.113360  -1.123334  ...   -2.613336   \n",
       "1      TURKCELL     samsung  -2.336352   2.567766  -0.494908  ...   -0.983938   \n",
       "2  TURK TELEKOM       Redmi  -2.561455   2.061736  -0.184511  ...   -1.668703   \n",
       "3      TURKCELL     samsung  -2.529918   3.358050  -0.851366  ...   -1.861418   \n",
       "4   VODAFONE TR     samsung  -2.922361   2.096124   0.060796  ...   -0.142903   \n",
       "\n",
       "   feature_42  feature_43  feature_44  feature_45  feature_46  feature_47  \\\n",
       "0   -2.032903    2.645719   -1.023478    1.658986   -1.559406   -2.161336   \n",
       "1   -1.453756   -0.021547   -0.195770    2.775513   -0.318980   -4.291473   \n",
       "2   -3.599403    1.673868    0.631790    1.293131   -2.230909   -2.383524   \n",
       "3   -1.219658    1.863495    0.213170    1.029710   -1.142185   -4.466191   \n",
       "4   -1.875545    1.024499   -0.186423   -0.061626   -1.462175   -2.371206   \n",
       "\n",
       "   feature_48  feature_49                       Target  \n",
       "0          30          58  [0, 1, 0, 1, 1, 0, 0, 0, 0]  \n",
       "1          21          45  [0, 0, 0, 1, 0, 0, 1, 1, 0]  \n",
       "2          19          61  [0, 1, 0, 1, 0, 0, 0, 1, 0]  \n",
       "3           2          41  [1, 1, 0, 0, 0, 1, 0, 0, 0]  \n",
       "4          23          85  [0, 1, 0, 0, 0, 1, 0, 1, 0]  \n",
       "\n",
       "[5 rows x 58 columns]"
      ]
     },
     "execution_count": 32,
     "metadata": {},
     "output_type": "execute_result"
    }
   ],
   "source": [
    "new_data_k.head()"
   ]
  },
  {
   "cell_type": "code",
   "execution_count": 26,
   "id": "c8076217",
   "metadata": {},
   "outputs": [],
   "source": [
    "# new_data_k.drop(\"Target\", inplace=True, axis=1)"
   ]
  },
  {
   "cell_type": "code",
   "execution_count": 42,
   "id": "8cd5ed88",
   "metadata": {},
   "outputs": [],
   "source": [
    "test = pd.read_parquet(\"test_final.parquet\")"
   ]
  },
  {
   "cell_type": "code",
   "execution_count": 43,
   "id": "669218d4",
   "metadata": {},
   "outputs": [
    {
     "data": {
      "text/html": [
       "<div>\n",
       "<style scoped>\n",
       "    .dataframe tbody tr th:only-of-type {\n",
       "        vertical-align: middle;\n",
       "    }\n",
       "\n",
       "    .dataframe tbody tr th {\n",
       "        vertical-align: top;\n",
       "    }\n",
       "\n",
       "    .dataframe thead th {\n",
       "        text-align: right;\n",
       "    }\n",
       "</style>\n",
       "<table border=\"1\" class=\"dataframe\">\n",
       "  <thead>\n",
       "    <tr style=\"text-align: right;\">\n",
       "      <th></th>\n",
       "      <th>id</th>\n",
       "      <th>month</th>\n",
       "      <th>n_seconds_1</th>\n",
       "      <th>n_seconds_2</th>\n",
       "      <th>n_seconds_3</th>\n",
       "      <th>carrier</th>\n",
       "      <th>devicebrand</th>\n",
       "      <th>feature_0</th>\n",
       "      <th>feature_1</th>\n",
       "      <th>feature_2</th>\n",
       "      <th>...</th>\n",
       "      <th>feature_40</th>\n",
       "      <th>feature_41</th>\n",
       "      <th>feature_42</th>\n",
       "      <th>feature_43</th>\n",
       "      <th>feature_44</th>\n",
       "      <th>feature_45</th>\n",
       "      <th>feature_46</th>\n",
       "      <th>feature_47</th>\n",
       "      <th>feature_48</th>\n",
       "      <th>feature_49</th>\n",
       "    </tr>\n",
       "  </thead>\n",
       "  <tbody>\n",
       "    <tr>\n",
       "      <th>0</th>\n",
       "      <td>2e6105f5911256f4f6c4813ed</td>\n",
       "      <td>1</td>\n",
       "      <td>6893.544</td>\n",
       "      <td>246.854</td>\n",
       "      <td>242.636</td>\n",
       "      <td>VODAFONE TR</td>\n",
       "      <td>samsung</td>\n",
       "      <td>-1.723524</td>\n",
       "      <td>3.216489</td>\n",
       "      <td>-1.138474</td>\n",
       "      <td>...</td>\n",
       "      <td>-1.094519</td>\n",
       "      <td>-1.217407</td>\n",
       "      <td>-4.280456</td>\n",
       "      <td>1.512240</td>\n",
       "      <td>-2.306445</td>\n",
       "      <td>2.066388</td>\n",
       "      <td>0.844927</td>\n",
       "      <td>-1.026193</td>\n",
       "      <td>18</td>\n",
       "      <td>58</td>\n",
       "    </tr>\n",
       "    <tr>\n",
       "      <th>1</th>\n",
       "      <td>c56ad71dae0a5dbd3e7d36adc</td>\n",
       "      <td>1</td>\n",
       "      <td>4481.065</td>\n",
       "      <td>740.209</td>\n",
       "      <td>263.860</td>\n",
       "      <td>TURKCELL</td>\n",
       "      <td>Apple</td>\n",
       "      <td>-0.417275</td>\n",
       "      <td>2.024433</td>\n",
       "      <td>0.102952</td>\n",
       "      <td>...</td>\n",
       "      <td>1.806486</td>\n",
       "      <td>-3.477517</td>\n",
       "      <td>-2.064966</td>\n",
       "      <td>1.499805</td>\n",
       "      <td>1.284697</td>\n",
       "      <td>0.189269</td>\n",
       "      <td>-1.563224</td>\n",
       "      <td>-1.901654</td>\n",
       "      <td>3</td>\n",
       "      <td>35</td>\n",
       "    </tr>\n",
       "    <tr>\n",
       "      <th>2</th>\n",
       "      <td>4d02ea175f6581f0c6385311f</td>\n",
       "      <td>1</td>\n",
       "      <td>4340.702</td>\n",
       "      <td>2742.163</td>\n",
       "      <td>318.700</td>\n",
       "      <td>TURKCELL</td>\n",
       "      <td>samsung</td>\n",
       "      <td>-2.943294</td>\n",
       "      <td>2.769536</td>\n",
       "      <td>0.734942</td>\n",
       "      <td>...</td>\n",
       "      <td>1.759080</td>\n",
       "      <td>-2.038839</td>\n",
       "      <td>-2.067219</td>\n",
       "      <td>2.141083</td>\n",
       "      <td>0.055355</td>\n",
       "      <td>0.084739</td>\n",
       "      <td>-1.009925</td>\n",
       "      <td>-2.058473</td>\n",
       "      <td>7</td>\n",
       "      <td>50</td>\n",
       "    </tr>\n",
       "    <tr>\n",
       "      <th>3</th>\n",
       "      <td>3412d27a86c286ba078fa935c</td>\n",
       "      <td>1</td>\n",
       "      <td>4129.666</td>\n",
       "      <td>181.397</td>\n",
       "      <td>155.423</td>\n",
       "      <td>TURK TELEKOM</td>\n",
       "      <td>Apple</td>\n",
       "      <td>-2.346902</td>\n",
       "      <td>2.684752</td>\n",
       "      <td>0.168206</td>\n",
       "      <td>...</td>\n",
       "      <td>2.171847</td>\n",
       "      <td>-0.925040</td>\n",
       "      <td>-1.484278</td>\n",
       "      <td>0.666036</td>\n",
       "      <td>0.911519</td>\n",
       "      <td>0.616167</td>\n",
       "      <td>0.092304</td>\n",
       "      <td>-1.874706</td>\n",
       "      <td>22</td>\n",
       "      <td>47</td>\n",
       "    </tr>\n",
       "    <tr>\n",
       "      <th>4</th>\n",
       "      <td>0203b561f6f7e10eafa46eefa</td>\n",
       "      <td>1</td>\n",
       "      <td>3903.944</td>\n",
       "      <td>126.133</td>\n",
       "      <td>100.060</td>\n",
       "      <td>TURKCELL</td>\n",
       "      <td>POCO</td>\n",
       "      <td>-1.745354</td>\n",
       "      <td>2.355863</td>\n",
       "      <td>0.318961</td>\n",
       "      <td>...</td>\n",
       "      <td>-0.373413</td>\n",
       "      <td>-0.015773</td>\n",
       "      <td>-2.961445</td>\n",
       "      <td>1.301413</td>\n",
       "      <td>1.375090</td>\n",
       "      <td>-0.107355</td>\n",
       "      <td>0.924390</td>\n",
       "      <td>-1.606419</td>\n",
       "      <td>29</td>\n",
       "      <td>52</td>\n",
       "    </tr>\n",
       "  </tbody>\n",
       "</table>\n",
       "<p>5 rows × 57 columns</p>\n",
       "</div>"
      ],
      "text/plain": [
       "                          id  month  n_seconds_1  n_seconds_2  n_seconds_3  \\\n",
       "0  2e6105f5911256f4f6c4813ed      1     6893.544      246.854      242.636   \n",
       "1  c56ad71dae0a5dbd3e7d36adc      1     4481.065      740.209      263.860   \n",
       "2  4d02ea175f6581f0c6385311f      1     4340.702     2742.163      318.700   \n",
       "3  3412d27a86c286ba078fa935c      1     4129.666      181.397      155.423   \n",
       "4  0203b561f6f7e10eafa46eefa      1     3903.944      126.133      100.060   \n",
       "\n",
       "        carrier devicebrand  feature_0  feature_1  feature_2  ...  feature_40  \\\n",
       "0   VODAFONE TR     samsung  -1.723524   3.216489  -1.138474  ...   -1.094519   \n",
       "1      TURKCELL       Apple  -0.417275   2.024433   0.102952  ...    1.806486   \n",
       "2      TURKCELL     samsung  -2.943294   2.769536   0.734942  ...    1.759080   \n",
       "3  TURK TELEKOM       Apple  -2.346902   2.684752   0.168206  ...    2.171847   \n",
       "4      TURKCELL        POCO  -1.745354   2.355863   0.318961  ...   -0.373413   \n",
       "\n",
       "   feature_41  feature_42  feature_43  feature_44  feature_45  feature_46  \\\n",
       "0   -1.217407   -4.280456    1.512240   -2.306445    2.066388    0.844927   \n",
       "1   -3.477517   -2.064966    1.499805    1.284697    0.189269   -1.563224   \n",
       "2   -2.038839   -2.067219    2.141083    0.055355    0.084739   -1.009925   \n",
       "3   -0.925040   -1.484278    0.666036    0.911519    0.616167    0.092304   \n",
       "4   -0.015773   -2.961445    1.301413    1.375090   -0.107355    0.924390   \n",
       "\n",
       "   feature_47  feature_48  feature_49  \n",
       "0   -1.026193          18          58  \n",
       "1   -1.901654           3          35  \n",
       "2   -2.058473           7          50  \n",
       "3   -1.874706          22          47  \n",
       "4   -1.606419          29          52  \n",
       "\n",
       "[5 rows x 57 columns]"
      ]
     },
     "execution_count": 43,
     "metadata": {},
     "output_type": "execute_result"
    }
   ],
   "source": [
    "test.head()"
   ]
  },
  {
   "cell_type": "code",
   "execution_count": 34,
   "id": "8c42b265",
   "metadata": {},
   "outputs": [],
   "source": [
    "from sklearn import multioutput"
   ]
  },
  {
   "cell_type": "code",
   "execution_count": 39,
   "id": "dd2aed74",
   "metadata": {},
   "outputs": [],
   "source": [
    "from sklearn import ensemble\n",
    "# .GradientBoostingRegressor"
   ]
  },
  {
   "cell_type": "code",
   "execution_count": 41,
   "id": "5bcba0eb",
   "metadata": {},
   "outputs": [],
   "source": [
    "X = new_data_k.drop(\"target\", axis=1)\n",
    "y = new_data_k[\"target\"]"
   ]
  },
  {
   "cell_type": "code",
   "execution_count": 46,
   "id": "a226a3fc",
   "metadata": {},
   "outputs": [],
   "source": [
    "numpy_dizi = y.to_numpy()"
   ]
  },
  {
   "cell_type": "code",
   "execution_count": 53,
   "id": "d4f59be8",
   "metadata": {},
   "outputs": [],
   "source": [
    "numpy_dizi = [np.array(row) for row in numpy_dizi]"
   ]
  },
  {
   "cell_type": "code",
   "execution_count": 57,
   "id": "58aa797b",
   "metadata": {},
   "outputs": [],
   "source": [
    "X = X.drop([\"id\", \"carrier\", \"devicebrand\"], axis=1)"
   ]
  },
  {
   "cell_type": "code",
   "execution_count": 58,
   "id": "6d6d7ed7",
   "metadata": {},
   "outputs": [
    {
     "ename": "KeyboardInterrupt",
     "evalue": "",
     "output_type": "error",
     "traceback": [
      "\u001b[1;31m---------------------------------------------------------------------------\u001b[0m",
      "\u001b[1;31mKeyboardInterrupt\u001b[0m                         Traceback (most recent call last)",
      "\u001b[1;32mc:\\Users\\aydin\\Desktop\\İş_Bankası_Datathon\\Main.ipynb Cell 59\u001b[0m line \u001b[0;36m2\n\u001b[0;32m      <a href='vscode-notebook-cell:/c%3A/Users/aydin/Desktop/%C4%B0%C5%9F_Bankas%C4%B1_Datathon/Main.ipynb#Y134sZmlsZQ%3D%3D?line=0'>1</a>\u001b[0m reg \u001b[39m=\u001b[39m multioutput\u001b[39m.\u001b[39mMultiOutputRegressor(ensemble\u001b[39m.\u001b[39mGradientBoostingRegressor())\n\u001b[1;32m----> <a href='vscode-notebook-cell:/c%3A/Users/aydin/Desktop/%C4%B0%C5%9F_Bankas%C4%B1_Datathon/Main.ipynb#Y134sZmlsZQ%3D%3D?line=1'>2</a>\u001b[0m reg\u001b[39m.\u001b[39;49mfit(X, numpy_dizi)\n\u001b[0;32m      <a href='vscode-notebook-cell:/c%3A/Users/aydin/Desktop/%C4%B0%C5%9F_Bankas%C4%B1_Datathon/Main.ipynb#Y134sZmlsZQ%3D%3D?line=3'>4</a>\u001b[0m y_pred \u001b[39m=\u001b[39m reg\u001b[39m.\u001b[39mpredict(test)\n",
      "File \u001b[1;32mc:\\Users\\aydin\\AppData\\Local\\Packages\\PythonSoftwareFoundation.Python.3.10_qbz5n2kfra8p0\\LocalCache\\local-packages\\Python310\\lib\\site-packages\\sklearn\\base.py:1151\u001b[0m, in \u001b[0;36m_fit_context.<locals>.decorator.<locals>.wrapper\u001b[1;34m(estimator, *args, **kwargs)\u001b[0m\n\u001b[0;32m   1144\u001b[0m     estimator\u001b[39m.\u001b[39m_validate_params()\n\u001b[0;32m   1146\u001b[0m \u001b[39mwith\u001b[39;00m config_context(\n\u001b[0;32m   1147\u001b[0m     skip_parameter_validation\u001b[39m=\u001b[39m(\n\u001b[0;32m   1148\u001b[0m         prefer_skip_nested_validation \u001b[39mor\u001b[39;00m global_skip_validation\n\u001b[0;32m   1149\u001b[0m     )\n\u001b[0;32m   1150\u001b[0m ):\n\u001b[1;32m-> 1151\u001b[0m     \u001b[39mreturn\u001b[39;00m fit_method(estimator, \u001b[39m*\u001b[39margs, \u001b[39m*\u001b[39m\u001b[39m*\u001b[39mkwargs)\n",
      "File \u001b[1;32mc:\\Users\\aydin\\AppData\\Local\\Packages\\PythonSoftwareFoundation.Python.3.10_qbz5n2kfra8p0\\LocalCache\\local-packages\\Python310\\lib\\site-packages\\sklearn\\multioutput.py:273\u001b[0m, in \u001b[0;36m_MultiOutputEstimator.fit\u001b[1;34m(self, X, y, sample_weight, **fit_params)\u001b[0m\n\u001b[0;32m    270\u001b[0m     \u001b[39mif\u001b[39;00m sample_weight \u001b[39mis\u001b[39;00m \u001b[39mnot\u001b[39;00m \u001b[39mNone\u001b[39;00m:\n\u001b[0;32m    271\u001b[0m         routed_params\u001b[39m.\u001b[39mestimator\u001b[39m.\u001b[39mfit[\u001b[39m\"\u001b[39m\u001b[39msample_weight\u001b[39m\u001b[39m\"\u001b[39m] \u001b[39m=\u001b[39m sample_weight\n\u001b[1;32m--> 273\u001b[0m \u001b[39mself\u001b[39m\u001b[39m.\u001b[39mestimators_ \u001b[39m=\u001b[39m Parallel(n_jobs\u001b[39m=\u001b[39;49m\u001b[39mself\u001b[39;49m\u001b[39m.\u001b[39;49mn_jobs)(\n\u001b[0;32m    274\u001b[0m     delayed(_fit_estimator)(\n\u001b[0;32m    275\u001b[0m         \u001b[39mself\u001b[39;49m\u001b[39m.\u001b[39;49mestimator, X, y[:, i], \u001b[39m*\u001b[39;49m\u001b[39m*\u001b[39;49mrouted_params\u001b[39m.\u001b[39;49mestimator\u001b[39m.\u001b[39;49mfit\n\u001b[0;32m    276\u001b[0m     )\n\u001b[0;32m    277\u001b[0m     \u001b[39mfor\u001b[39;49;00m i \u001b[39min\u001b[39;49;00m \u001b[39mrange\u001b[39;49m(y\u001b[39m.\u001b[39;49mshape[\u001b[39m1\u001b[39;49m])\n\u001b[0;32m    278\u001b[0m )\n\u001b[0;32m    280\u001b[0m \u001b[39mif\u001b[39;00m \u001b[39mhasattr\u001b[39m(\u001b[39mself\u001b[39m\u001b[39m.\u001b[39mestimators_[\u001b[39m0\u001b[39m], \u001b[39m\"\u001b[39m\u001b[39mn_features_in_\u001b[39m\u001b[39m\"\u001b[39m):\n\u001b[0;32m    281\u001b[0m     \u001b[39mself\u001b[39m\u001b[39m.\u001b[39mn_features_in_ \u001b[39m=\u001b[39m \u001b[39mself\u001b[39m\u001b[39m.\u001b[39mestimators_[\u001b[39m0\u001b[39m]\u001b[39m.\u001b[39mn_features_in_\n",
      "File \u001b[1;32mc:\\Users\\aydin\\AppData\\Local\\Packages\\PythonSoftwareFoundation.Python.3.10_qbz5n2kfra8p0\\LocalCache\\local-packages\\Python310\\lib\\site-packages\\sklearn\\utils\\parallel.py:65\u001b[0m, in \u001b[0;36mParallel.__call__\u001b[1;34m(self, iterable)\u001b[0m\n\u001b[0;32m     60\u001b[0m config \u001b[39m=\u001b[39m get_config()\n\u001b[0;32m     61\u001b[0m iterable_with_config \u001b[39m=\u001b[39m (\n\u001b[0;32m     62\u001b[0m     (_with_config(delayed_func, config), args, kwargs)\n\u001b[0;32m     63\u001b[0m     \u001b[39mfor\u001b[39;00m delayed_func, args, kwargs \u001b[39min\u001b[39;00m iterable\n\u001b[0;32m     64\u001b[0m )\n\u001b[1;32m---> 65\u001b[0m \u001b[39mreturn\u001b[39;00m \u001b[39msuper\u001b[39;49m()\u001b[39m.\u001b[39;49m\u001b[39m__call__\u001b[39;49m(iterable_with_config)\n",
      "File \u001b[1;32m~\\AppData\\Local\\Packages\\PythonSoftwareFoundation.Python.3.10_qbz5n2kfra8p0\\LocalCache\\local-packages\\Python310\\site-packages\\joblib\\parallel.py:1088\u001b[0m, in \u001b[0;36mParallel.__call__\u001b[1;34m(self, iterable)\u001b[0m\n\u001b[0;32m   1085\u001b[0m \u001b[39mif\u001b[39;00m \u001b[39mself\u001b[39m\u001b[39m.\u001b[39mdispatch_one_batch(iterator):\n\u001b[0;32m   1086\u001b[0m     \u001b[39mself\u001b[39m\u001b[39m.\u001b[39m_iterating \u001b[39m=\u001b[39m \u001b[39mself\u001b[39m\u001b[39m.\u001b[39m_original_iterator \u001b[39mis\u001b[39;00m \u001b[39mnot\u001b[39;00m \u001b[39mNone\u001b[39;00m\n\u001b[1;32m-> 1088\u001b[0m \u001b[39mwhile\u001b[39;00m \u001b[39mself\u001b[39;49m\u001b[39m.\u001b[39;49mdispatch_one_batch(iterator):\n\u001b[0;32m   1089\u001b[0m     \u001b[39mpass\u001b[39;00m\n\u001b[0;32m   1091\u001b[0m \u001b[39mif\u001b[39;00m pre_dispatch \u001b[39m==\u001b[39m \u001b[39m\"\u001b[39m\u001b[39mall\u001b[39m\u001b[39m\"\u001b[39m \u001b[39mor\u001b[39;00m n_jobs \u001b[39m==\u001b[39m \u001b[39m1\u001b[39m:\n\u001b[0;32m   1092\u001b[0m     \u001b[39m# The iterable was consumed all at once by the above for loop.\u001b[39;00m\n\u001b[0;32m   1093\u001b[0m     \u001b[39m# No need to wait for async callbacks to trigger to\u001b[39;00m\n\u001b[0;32m   1094\u001b[0m     \u001b[39m# consumption.\u001b[39;00m\n",
      "File \u001b[1;32m~\\AppData\\Local\\Packages\\PythonSoftwareFoundation.Python.3.10_qbz5n2kfra8p0\\LocalCache\\local-packages\\Python310\\site-packages\\joblib\\parallel.py:901\u001b[0m, in \u001b[0;36mParallel.dispatch_one_batch\u001b[1;34m(self, iterator)\u001b[0m\n\u001b[0;32m    899\u001b[0m     \u001b[39mreturn\u001b[39;00m \u001b[39mFalse\u001b[39;00m\n\u001b[0;32m    900\u001b[0m \u001b[39melse\u001b[39;00m:\n\u001b[1;32m--> 901\u001b[0m     \u001b[39mself\u001b[39;49m\u001b[39m.\u001b[39;49m_dispatch(tasks)\n\u001b[0;32m    902\u001b[0m     \u001b[39mreturn\u001b[39;00m \u001b[39mTrue\u001b[39;00m\n",
      "File \u001b[1;32m~\\AppData\\Local\\Packages\\PythonSoftwareFoundation.Python.3.10_qbz5n2kfra8p0\\LocalCache\\local-packages\\Python310\\site-packages\\joblib\\parallel.py:819\u001b[0m, in \u001b[0;36mParallel._dispatch\u001b[1;34m(self, batch)\u001b[0m\n\u001b[0;32m    817\u001b[0m \u001b[39mwith\u001b[39;00m \u001b[39mself\u001b[39m\u001b[39m.\u001b[39m_lock:\n\u001b[0;32m    818\u001b[0m     job_idx \u001b[39m=\u001b[39m \u001b[39mlen\u001b[39m(\u001b[39mself\u001b[39m\u001b[39m.\u001b[39m_jobs)\n\u001b[1;32m--> 819\u001b[0m     job \u001b[39m=\u001b[39m \u001b[39mself\u001b[39;49m\u001b[39m.\u001b[39;49m_backend\u001b[39m.\u001b[39;49mapply_async(batch, callback\u001b[39m=\u001b[39;49mcb)\n\u001b[0;32m    820\u001b[0m     \u001b[39m# A job can complete so quickly than its callback is\u001b[39;00m\n\u001b[0;32m    821\u001b[0m     \u001b[39m# called before we get here, causing self._jobs to\u001b[39;00m\n\u001b[0;32m    822\u001b[0m     \u001b[39m# grow. To ensure correct results ordering, .insert is\u001b[39;00m\n\u001b[0;32m    823\u001b[0m     \u001b[39m# used (rather than .append) in the following line\u001b[39;00m\n\u001b[0;32m    824\u001b[0m     \u001b[39mself\u001b[39m\u001b[39m.\u001b[39m_jobs\u001b[39m.\u001b[39minsert(job_idx, job)\n",
      "File \u001b[1;32m~\\AppData\\Local\\Packages\\PythonSoftwareFoundation.Python.3.10_qbz5n2kfra8p0\\LocalCache\\local-packages\\Python310\\site-packages\\joblib\\_parallel_backends.py:208\u001b[0m, in \u001b[0;36mSequentialBackend.apply_async\u001b[1;34m(self, func, callback)\u001b[0m\n\u001b[0;32m    206\u001b[0m \u001b[39mdef\u001b[39;00m \u001b[39mapply_async\u001b[39m(\u001b[39mself\u001b[39m, func, callback\u001b[39m=\u001b[39m\u001b[39mNone\u001b[39;00m):\n\u001b[0;32m    207\u001b[0m \u001b[39m    \u001b[39m\u001b[39m\"\"\"Schedule a func to be run\"\"\"\u001b[39;00m\n\u001b[1;32m--> 208\u001b[0m     result \u001b[39m=\u001b[39m ImmediateResult(func)\n\u001b[0;32m    209\u001b[0m     \u001b[39mif\u001b[39;00m callback:\n\u001b[0;32m    210\u001b[0m         callback(result)\n",
      "File \u001b[1;32m~\\AppData\\Local\\Packages\\PythonSoftwareFoundation.Python.3.10_qbz5n2kfra8p0\\LocalCache\\local-packages\\Python310\\site-packages\\joblib\\_parallel_backends.py:597\u001b[0m, in \u001b[0;36mImmediateResult.__init__\u001b[1;34m(self, batch)\u001b[0m\n\u001b[0;32m    594\u001b[0m \u001b[39mdef\u001b[39;00m \u001b[39m__init__\u001b[39m(\u001b[39mself\u001b[39m, batch):\n\u001b[0;32m    595\u001b[0m     \u001b[39m# Don't delay the application, to avoid keeping the input\u001b[39;00m\n\u001b[0;32m    596\u001b[0m     \u001b[39m# arguments in memory\u001b[39;00m\n\u001b[1;32m--> 597\u001b[0m     \u001b[39mself\u001b[39m\u001b[39m.\u001b[39mresults \u001b[39m=\u001b[39m batch()\n",
      "File \u001b[1;32m~\\AppData\\Local\\Packages\\PythonSoftwareFoundation.Python.3.10_qbz5n2kfra8p0\\LocalCache\\local-packages\\Python310\\site-packages\\joblib\\parallel.py:288\u001b[0m, in \u001b[0;36mBatchedCalls.__call__\u001b[1;34m(self)\u001b[0m\n\u001b[0;32m    284\u001b[0m \u001b[39mdef\u001b[39;00m \u001b[39m__call__\u001b[39m(\u001b[39mself\u001b[39m):\n\u001b[0;32m    285\u001b[0m     \u001b[39m# Set the default nested backend to self._backend but do not set the\u001b[39;00m\n\u001b[0;32m    286\u001b[0m     \u001b[39m# change the default number of processes to -1\u001b[39;00m\n\u001b[0;32m    287\u001b[0m     \u001b[39mwith\u001b[39;00m parallel_backend(\u001b[39mself\u001b[39m\u001b[39m.\u001b[39m_backend, n_jobs\u001b[39m=\u001b[39m\u001b[39mself\u001b[39m\u001b[39m.\u001b[39m_n_jobs):\n\u001b[1;32m--> 288\u001b[0m         \u001b[39mreturn\u001b[39;00m [func(\u001b[39m*\u001b[39margs, \u001b[39m*\u001b[39m\u001b[39m*\u001b[39mkwargs)\n\u001b[0;32m    289\u001b[0m                 \u001b[39mfor\u001b[39;00m func, args, kwargs \u001b[39min\u001b[39;00m \u001b[39mself\u001b[39m\u001b[39m.\u001b[39mitems]\n",
      "File \u001b[1;32m~\\AppData\\Local\\Packages\\PythonSoftwareFoundation.Python.3.10_qbz5n2kfra8p0\\LocalCache\\local-packages\\Python310\\site-packages\\joblib\\parallel.py:288\u001b[0m, in \u001b[0;36m<listcomp>\u001b[1;34m(.0)\u001b[0m\n\u001b[0;32m    284\u001b[0m \u001b[39mdef\u001b[39;00m \u001b[39m__call__\u001b[39m(\u001b[39mself\u001b[39m):\n\u001b[0;32m    285\u001b[0m     \u001b[39m# Set the default nested backend to self._backend but do not set the\u001b[39;00m\n\u001b[0;32m    286\u001b[0m     \u001b[39m# change the default number of processes to -1\u001b[39;00m\n\u001b[0;32m    287\u001b[0m     \u001b[39mwith\u001b[39;00m parallel_backend(\u001b[39mself\u001b[39m\u001b[39m.\u001b[39m_backend, n_jobs\u001b[39m=\u001b[39m\u001b[39mself\u001b[39m\u001b[39m.\u001b[39m_n_jobs):\n\u001b[1;32m--> 288\u001b[0m         \u001b[39mreturn\u001b[39;00m [func(\u001b[39m*\u001b[39margs, \u001b[39m*\u001b[39m\u001b[39m*\u001b[39mkwargs)\n\u001b[0;32m    289\u001b[0m                 \u001b[39mfor\u001b[39;00m func, args, kwargs \u001b[39min\u001b[39;00m \u001b[39mself\u001b[39m\u001b[39m.\u001b[39mitems]\n",
      "File \u001b[1;32mc:\\Users\\aydin\\AppData\\Local\\Packages\\PythonSoftwareFoundation.Python.3.10_qbz5n2kfra8p0\\LocalCache\\local-packages\\Python310\\lib\\site-packages\\sklearn\\utils\\parallel.py:127\u001b[0m, in \u001b[0;36m_FuncWrapper.__call__\u001b[1;34m(self, *args, **kwargs)\u001b[0m\n\u001b[0;32m    125\u001b[0m     config \u001b[39m=\u001b[39m {}\n\u001b[0;32m    126\u001b[0m \u001b[39mwith\u001b[39;00m config_context(\u001b[39m*\u001b[39m\u001b[39m*\u001b[39mconfig):\n\u001b[1;32m--> 127\u001b[0m     \u001b[39mreturn\u001b[39;00m \u001b[39mself\u001b[39m\u001b[39m.\u001b[39mfunction(\u001b[39m*\u001b[39margs, \u001b[39m*\u001b[39m\u001b[39m*\u001b[39mkwargs)\n",
      "File \u001b[1;32mc:\\Users\\aydin\\AppData\\Local\\Packages\\PythonSoftwareFoundation.Python.3.10_qbz5n2kfra8p0\\LocalCache\\local-packages\\Python310\\lib\\site-packages\\sklearn\\multioutput.py:60\u001b[0m, in \u001b[0;36m_fit_estimator\u001b[1;34m(estimator, X, y, sample_weight, **fit_params)\u001b[0m\n\u001b[0;32m     58\u001b[0m     estimator\u001b[39m.\u001b[39mfit(X, y, sample_weight\u001b[39m=\u001b[39msample_weight, \u001b[39m*\u001b[39m\u001b[39m*\u001b[39mfit_params)\n\u001b[0;32m     59\u001b[0m \u001b[39melse\u001b[39;00m:\n\u001b[1;32m---> 60\u001b[0m     estimator\u001b[39m.\u001b[39mfit(X, y, \u001b[39m*\u001b[39m\u001b[39m*\u001b[39mfit_params)\n\u001b[0;32m     61\u001b[0m \u001b[39mreturn\u001b[39;00m estimator\n",
      "File \u001b[1;32mc:\\Users\\aydin\\AppData\\Local\\Packages\\PythonSoftwareFoundation.Python.3.10_qbz5n2kfra8p0\\LocalCache\\local-packages\\Python310\\lib\\site-packages\\sklearn\\base.py:1151\u001b[0m, in \u001b[0;36m_fit_context.<locals>.decorator.<locals>.wrapper\u001b[1;34m(estimator, *args, **kwargs)\u001b[0m\n\u001b[0;32m   1144\u001b[0m     estimator\u001b[39m.\u001b[39m_validate_params()\n\u001b[0;32m   1146\u001b[0m \u001b[39mwith\u001b[39;00m config_context(\n\u001b[0;32m   1147\u001b[0m     skip_parameter_validation\u001b[39m=\u001b[39m(\n\u001b[0;32m   1148\u001b[0m         prefer_skip_nested_validation \u001b[39mor\u001b[39;00m global_skip_validation\n\u001b[0;32m   1149\u001b[0m     )\n\u001b[0;32m   1150\u001b[0m ):\n\u001b[1;32m-> 1151\u001b[0m     \u001b[39mreturn\u001b[39;00m fit_method(estimator, \u001b[39m*\u001b[39margs, \u001b[39m*\u001b[39m\u001b[39m*\u001b[39mkwargs)\n",
      "File \u001b[1;32mc:\\Users\\aydin\\AppData\\Local\\Packages\\PythonSoftwareFoundation.Python.3.10_qbz5n2kfra8p0\\LocalCache\\local-packages\\Python310\\lib\\site-packages\\sklearn\\ensemble\\_gb.py:525\u001b[0m, in \u001b[0;36mBaseGradientBoosting.fit\u001b[1;34m(self, X, y, sample_weight, monitor)\u001b[0m\n\u001b[0;32m    522\u001b[0m     \u001b[39mself\u001b[39m\u001b[39m.\u001b[39m_resize_state()\n\u001b[0;32m    524\u001b[0m \u001b[39m# fit the boosting stages\u001b[39;00m\n\u001b[1;32m--> 525\u001b[0m n_stages \u001b[39m=\u001b[39m \u001b[39mself\u001b[39;49m\u001b[39m.\u001b[39;49m_fit_stages(\n\u001b[0;32m    526\u001b[0m     X,\n\u001b[0;32m    527\u001b[0m     y,\n\u001b[0;32m    528\u001b[0m     raw_predictions,\n\u001b[0;32m    529\u001b[0m     sample_weight,\n\u001b[0;32m    530\u001b[0m     \u001b[39mself\u001b[39;49m\u001b[39m.\u001b[39;49m_rng,\n\u001b[0;32m    531\u001b[0m     X_val,\n\u001b[0;32m    532\u001b[0m     y_val,\n\u001b[0;32m    533\u001b[0m     sample_weight_val,\n\u001b[0;32m    534\u001b[0m     begin_at_stage,\n\u001b[0;32m    535\u001b[0m     monitor,\n\u001b[0;32m    536\u001b[0m )\n\u001b[0;32m    538\u001b[0m \u001b[39m# change shape of arrays after fit (early-stopping or additional ests)\u001b[39;00m\n\u001b[0;32m    539\u001b[0m \u001b[39mif\u001b[39;00m n_stages \u001b[39m!=\u001b[39m \u001b[39mself\u001b[39m\u001b[39m.\u001b[39mestimators_\u001b[39m.\u001b[39mshape[\u001b[39m0\u001b[39m]:\n",
      "File \u001b[1;32mc:\\Users\\aydin\\AppData\\Local\\Packages\\PythonSoftwareFoundation.Python.3.10_qbz5n2kfra8p0\\LocalCache\\local-packages\\Python310\\lib\\site-packages\\sklearn\\ensemble\\_gb.py:603\u001b[0m, in \u001b[0;36mBaseGradientBoosting._fit_stages\u001b[1;34m(self, X, y, raw_predictions, sample_weight, random_state, X_val, y_val, sample_weight_val, begin_at_stage, monitor)\u001b[0m\n\u001b[0;32m    596\u001b[0m         initial_loss \u001b[39m=\u001b[39m loss_(\n\u001b[0;32m    597\u001b[0m             y[\u001b[39m~\u001b[39msample_mask],\n\u001b[0;32m    598\u001b[0m             raw_predictions[\u001b[39m~\u001b[39msample_mask],\n\u001b[0;32m    599\u001b[0m             sample_weight[\u001b[39m~\u001b[39msample_mask],\n\u001b[0;32m    600\u001b[0m         )\n\u001b[0;32m    602\u001b[0m \u001b[39m# fit next stage of trees\u001b[39;00m\n\u001b[1;32m--> 603\u001b[0m raw_predictions \u001b[39m=\u001b[39m \u001b[39mself\u001b[39;49m\u001b[39m.\u001b[39;49m_fit_stage(\n\u001b[0;32m    604\u001b[0m     i,\n\u001b[0;32m    605\u001b[0m     X,\n\u001b[0;32m    606\u001b[0m     y,\n\u001b[0;32m    607\u001b[0m     raw_predictions,\n\u001b[0;32m    608\u001b[0m     sample_weight,\n\u001b[0;32m    609\u001b[0m     sample_mask,\n\u001b[0;32m    610\u001b[0m     random_state,\n\u001b[0;32m    611\u001b[0m     X_csc,\n\u001b[0;32m    612\u001b[0m     X_csr,\n\u001b[0;32m    613\u001b[0m )\n\u001b[0;32m    615\u001b[0m \u001b[39m# track loss\u001b[39;00m\n\u001b[0;32m    616\u001b[0m \u001b[39mif\u001b[39;00m do_oob:\n",
      "File \u001b[1;32mc:\\Users\\aydin\\AppData\\Local\\Packages\\PythonSoftwareFoundation.Python.3.10_qbz5n2kfra8p0\\LocalCache\\local-packages\\Python310\\lib\\site-packages\\sklearn\\ensemble\\_gb.py:245\u001b[0m, in \u001b[0;36mBaseGradientBoosting._fit_stage\u001b[1;34m(self, i, X, y, raw_predictions, sample_weight, sample_mask, random_state, X_csc, X_csr)\u001b[0m\n\u001b[0;32m    242\u001b[0m     sample_weight \u001b[39m=\u001b[39m sample_weight \u001b[39m*\u001b[39m sample_mask\u001b[39m.\u001b[39mastype(np\u001b[39m.\u001b[39mfloat64)\n\u001b[0;32m    244\u001b[0m X \u001b[39m=\u001b[39m X_csr \u001b[39mif\u001b[39;00m X_csr \u001b[39mis\u001b[39;00m \u001b[39mnot\u001b[39;00m \u001b[39mNone\u001b[39;00m \u001b[39melse\u001b[39;00m X\n\u001b[1;32m--> 245\u001b[0m tree\u001b[39m.\u001b[39;49mfit(X, residual, sample_weight\u001b[39m=\u001b[39;49msample_weight, check_input\u001b[39m=\u001b[39;49m\u001b[39mFalse\u001b[39;49;00m)\n\u001b[0;32m    247\u001b[0m \u001b[39m# update tree leaves\u001b[39;00m\n\u001b[0;32m    248\u001b[0m loss\u001b[39m.\u001b[39mupdate_terminal_regions(\n\u001b[0;32m    249\u001b[0m     tree\u001b[39m.\u001b[39mtree_,\n\u001b[0;32m    250\u001b[0m     X,\n\u001b[1;32m   (...)\u001b[0m\n\u001b[0;32m    257\u001b[0m     k\u001b[39m=\u001b[39mk,\n\u001b[0;32m    258\u001b[0m )\n",
      "File \u001b[1;32mc:\\Users\\aydin\\AppData\\Local\\Packages\\PythonSoftwareFoundation.Python.3.10_qbz5n2kfra8p0\\LocalCache\\local-packages\\Python310\\lib\\site-packages\\sklearn\\base.py:1151\u001b[0m, in \u001b[0;36m_fit_context.<locals>.decorator.<locals>.wrapper\u001b[1;34m(estimator, *args, **kwargs)\u001b[0m\n\u001b[0;32m   1144\u001b[0m     estimator\u001b[39m.\u001b[39m_validate_params()\n\u001b[0;32m   1146\u001b[0m \u001b[39mwith\u001b[39;00m config_context(\n\u001b[0;32m   1147\u001b[0m     skip_parameter_validation\u001b[39m=\u001b[39m(\n\u001b[0;32m   1148\u001b[0m         prefer_skip_nested_validation \u001b[39mor\u001b[39;00m global_skip_validation\n\u001b[0;32m   1149\u001b[0m     )\n\u001b[0;32m   1150\u001b[0m ):\n\u001b[1;32m-> 1151\u001b[0m     \u001b[39mreturn\u001b[39;00m fit_method(estimator, \u001b[39m*\u001b[39margs, \u001b[39m*\u001b[39m\u001b[39m*\u001b[39mkwargs)\n",
      "File \u001b[1;32mc:\\Users\\aydin\\AppData\\Local\\Packages\\PythonSoftwareFoundation.Python.3.10_qbz5n2kfra8p0\\LocalCache\\local-packages\\Python310\\lib\\site-packages\\sklearn\\tree\\_classes.py:1320\u001b[0m, in \u001b[0;36mDecisionTreeRegressor.fit\u001b[1;34m(self, X, y, sample_weight, check_input)\u001b[0m\n\u001b[0;32m   1290\u001b[0m \u001b[39m@_fit_context\u001b[39m(prefer_skip_nested_validation\u001b[39m=\u001b[39m\u001b[39mTrue\u001b[39;00m)\n\u001b[0;32m   1291\u001b[0m \u001b[39mdef\u001b[39;00m \u001b[39mfit\u001b[39m(\u001b[39mself\u001b[39m, X, y, sample_weight\u001b[39m=\u001b[39m\u001b[39mNone\u001b[39;00m, check_input\u001b[39m=\u001b[39m\u001b[39mTrue\u001b[39;00m):\n\u001b[0;32m   1292\u001b[0m \u001b[39m    \u001b[39m\u001b[39m\"\"\"Build a decision tree regressor from the training set (X, y).\u001b[39;00m\n\u001b[0;32m   1293\u001b[0m \n\u001b[0;32m   1294\u001b[0m \u001b[39m    Parameters\u001b[39;00m\n\u001b[1;32m   (...)\u001b[0m\n\u001b[0;32m   1317\u001b[0m \u001b[39m        Fitted estimator.\u001b[39;00m\n\u001b[0;32m   1318\u001b[0m \u001b[39m    \"\"\"\u001b[39;00m\n\u001b[1;32m-> 1320\u001b[0m     \u001b[39msuper\u001b[39;49m()\u001b[39m.\u001b[39;49m_fit(\n\u001b[0;32m   1321\u001b[0m         X,\n\u001b[0;32m   1322\u001b[0m         y,\n\u001b[0;32m   1323\u001b[0m         sample_weight\u001b[39m=\u001b[39;49msample_weight,\n\u001b[0;32m   1324\u001b[0m         check_input\u001b[39m=\u001b[39;49mcheck_input,\n\u001b[0;32m   1325\u001b[0m     )\n\u001b[0;32m   1326\u001b[0m     \u001b[39mreturn\u001b[39;00m \u001b[39mself\u001b[39m\n",
      "File \u001b[1;32mc:\\Users\\aydin\\AppData\\Local\\Packages\\PythonSoftwareFoundation.Python.3.10_qbz5n2kfra8p0\\LocalCache\\local-packages\\Python310\\lib\\site-packages\\sklearn\\tree\\_classes.py:443\u001b[0m, in \u001b[0;36mBaseDecisionTree._fit\u001b[1;34m(self, X, y, sample_weight, check_input, missing_values_in_feature_mask)\u001b[0m\n\u001b[0;32m    432\u001b[0m \u001b[39melse\u001b[39;00m:\n\u001b[0;32m    433\u001b[0m     builder \u001b[39m=\u001b[39m BestFirstTreeBuilder(\n\u001b[0;32m    434\u001b[0m         splitter,\n\u001b[0;32m    435\u001b[0m         min_samples_split,\n\u001b[1;32m   (...)\u001b[0m\n\u001b[0;32m    440\u001b[0m         \u001b[39mself\u001b[39m\u001b[39m.\u001b[39mmin_impurity_decrease,\n\u001b[0;32m    441\u001b[0m     )\n\u001b[1;32m--> 443\u001b[0m builder\u001b[39m.\u001b[39;49mbuild(\u001b[39mself\u001b[39;49m\u001b[39m.\u001b[39;49mtree_, X, y, sample_weight, missing_values_in_feature_mask)\n\u001b[0;32m    445\u001b[0m \u001b[39mif\u001b[39;00m \u001b[39mself\u001b[39m\u001b[39m.\u001b[39mn_outputs_ \u001b[39m==\u001b[39m \u001b[39m1\u001b[39m \u001b[39mand\u001b[39;00m is_classifier(\u001b[39mself\u001b[39m):\n\u001b[0;32m    446\u001b[0m     \u001b[39mself\u001b[39m\u001b[39m.\u001b[39mn_classes_ \u001b[39m=\u001b[39m \u001b[39mself\u001b[39m\u001b[39m.\u001b[39mn_classes_[\u001b[39m0\u001b[39m]\n",
      "\u001b[1;31mKeyboardInterrupt\u001b[0m: "
     ]
    }
   ],
   "source": [
    "reg = multioutput.MultiOutputRegressor(ensemble.GradientBoostingRegressor())\n",
    "reg.fit(X, numpy_dizi)\n",
    "\n",
    "y_pred = reg.predict(test)"
   ]
  },
  {
   "cell_type": "code",
   "execution_count": 20,
   "id": "0bf72b68",
   "metadata": {},
   "outputs": [
    {
     "data": {
      "text/plain": [
       "id              object\n",
       "month            int64\n",
       "n_seconds_1    float64\n",
       "n_seconds_2    float64\n",
       "n_seconds_3    float64\n",
       "carrier         object\n",
       "devicebrand     object\n",
       "feature_0      float64\n",
       "feature_1      float64\n",
       "feature_2      float64\n",
       "feature_3      float64\n",
       "feature_4      float64\n",
       "feature_5      float64\n",
       "feature_6      float64\n",
       "feature_7      float64\n",
       "feature_8      float64\n",
       "feature_9      float64\n",
       "feature_10     float64\n",
       "feature_11     float64\n",
       "feature_12     float64\n",
       "feature_13     float64\n",
       "feature_14     float64\n",
       "feature_15     float64\n",
       "feature_16     float64\n",
       "feature_17     float64\n",
       "feature_18     float64\n",
       "feature_19     float64\n",
       "feature_20     float64\n",
       "feature_21     float64\n",
       "feature_22     float64\n",
       "feature_23     float64\n",
       "feature_24     float64\n",
       "feature_25     float64\n",
       "feature_26     float64\n",
       "feature_27     float64\n",
       "feature_28     float64\n",
       "feature_29     float64\n",
       "feature_30     float64\n",
       "feature_31     float64\n",
       "feature_32     float64\n",
       "feature_33     float64\n",
       "feature_34     float64\n",
       "feature_35     float64\n",
       "feature_36     float64\n",
       "feature_37     float64\n",
       "feature_38     float64\n",
       "feature_39     float64\n",
       "feature_40     float64\n",
       "feature_41     float64\n",
       "feature_42     float64\n",
       "feature_43     float64\n",
       "feature_44     float64\n",
       "feature_45     float64\n",
       "feature_46     float64\n",
       "feature_47     float64\n",
       "feature_48       int64\n",
       "feature_49       int64\n",
       "first_menu      object\n",
       "second_menu     object\n",
       "third_menu      object\n",
       "dtype: object"
      ]
     },
     "execution_count": 20,
     "metadata": {},
     "output_type": "execute_result"
    }
   ],
   "source": [
    "new_data_k.dtypes"
   ]
  },
  {
   "cell_type": "code",
   "execution_count": null,
   "id": "b4fa4173",
   "metadata": {},
   "outputs": [],
   "source": [
    "new_data[\"first_menu\"]"
   ]
  },
  {
   "cell_type": "code",
   "execution_count": 120,
   "id": "bce76770",
   "metadata": {},
   "outputs": [],
   "source": [
    "secilen_sutunlar = new_data[['first_menu', 'first_menu', 'third_menu']]\n",
    "\n",
    "# Seçilen sütunları toplu olarak işleyerek yeni bir sütun oluşturun\n",
    "new_data['target'] = secilen_sutunlar.apply(lambda row: ', '.join(map(str, row)), axis=1)"
   ]
  },
  {
   "cell_type": "code",
   "execution_count": 122,
   "id": "3717d7a2",
   "metadata": {},
   "outputs": [],
   "source": [
    "new_data.drop(\"target\", inplace=True, axis=1)"
   ]
  },
  {
   "cell_type": "code",
   "execution_count": 123,
   "id": "9a62f3a0",
   "metadata": {},
   "outputs": [
    {
     "data": {
      "text/html": [
       "<div>\n",
       "<style scoped>\n",
       "    .dataframe tbody tr th:only-of-type {\n",
       "        vertical-align: middle;\n",
       "    }\n",
       "\n",
       "    .dataframe tbody tr th {\n",
       "        vertical-align: top;\n",
       "    }\n",
       "\n",
       "    .dataframe thead th {\n",
       "        text-align: right;\n",
       "    }\n",
       "</style>\n",
       "<table border=\"1\" class=\"dataframe\">\n",
       "  <thead>\n",
       "    <tr style=\"text-align: right;\">\n",
       "      <th></th>\n",
       "      <th>id</th>\n",
       "      <th>month</th>\n",
       "      <th>n_seconds_1</th>\n",
       "      <th>n_seconds_2</th>\n",
       "      <th>n_seconds_3</th>\n",
       "      <th>carrier</th>\n",
       "      <th>devicebrand</th>\n",
       "      <th>feature_0</th>\n",
       "      <th>feature_1</th>\n",
       "      <th>feature_2</th>\n",
       "      <th>...</th>\n",
       "      <th>feature_43</th>\n",
       "      <th>feature_44</th>\n",
       "      <th>feature_45</th>\n",
       "      <th>feature_46</th>\n",
       "      <th>feature_47</th>\n",
       "      <th>feature_48</th>\n",
       "      <th>feature_49</th>\n",
       "      <th>first_menu</th>\n",
       "      <th>second_menu</th>\n",
       "      <th>third_menu</th>\n",
       "    </tr>\n",
       "  </thead>\n",
       "  <tbody>\n",
       "    <tr>\n",
       "      <th>0</th>\n",
       "      <td>5beefd4d2bf4a4767e0df8108</td>\n",
       "      <td>10</td>\n",
       "      <td>5245.571</td>\n",
       "      <td>981.182</td>\n",
       "      <td>205.948</td>\n",
       "      <td>VODAFONE TR</td>\n",
       "      <td>Apple</td>\n",
       "      <td>-1.197737</td>\n",
       "      <td>1.113360</td>\n",
       "      <td>-1.123334</td>\n",
       "      <td>...</td>\n",
       "      <td>2.645719</td>\n",
       "      <td>-1.023478</td>\n",
       "      <td>1.658986</td>\n",
       "      <td>-1.559406</td>\n",
       "      <td>-2.161336</td>\n",
       "      <td>30</td>\n",
       "      <td>58</td>\n",
       "      <td>[0, 1, 0, 0, 0, 0, 0, 0, 0]</td>\n",
       "      <td>[0, 0, 0, 1, 0, 0, 0, 0, 0]</td>\n",
       "      <td>[0, 0, 0, 0, 1, 0, 0, 0, 0]</td>\n",
       "    </tr>\n",
       "    <tr>\n",
       "      <th>1</th>\n",
       "      <td>867285b116c063d5a8482f5be</td>\n",
       "      <td>10</td>\n",
       "      <td>5184.876</td>\n",
       "      <td>557.650</td>\n",
       "      <td>487.587</td>\n",
       "      <td>TURKCELL</td>\n",
       "      <td>samsung</td>\n",
       "      <td>-2.336352</td>\n",
       "      <td>2.567766</td>\n",
       "      <td>-0.494908</td>\n",
       "      <td>...</td>\n",
       "      <td>-0.021547</td>\n",
       "      <td>-0.195770</td>\n",
       "      <td>2.775513</td>\n",
       "      <td>-0.318980</td>\n",
       "      <td>-4.291473</td>\n",
       "      <td>21</td>\n",
       "      <td>45</td>\n",
       "      <td>[0, 0, 0, 0, 0, 0, 1, 0, 0]</td>\n",
       "      <td>[0, 0, 0, 0, 0, 0, 0, 1, 0]</td>\n",
       "      <td>[0, 0, 0, 1, 0, 0, 0, 0, 0]</td>\n",
       "    </tr>\n",
       "    <tr>\n",
       "      <th>2</th>\n",
       "      <td>c82a7cbd2e00d9b66c06bcadc</td>\n",
       "      <td>10</td>\n",
       "      <td>3835.618</td>\n",
       "      <td>3275.128</td>\n",
       "      <td>43.806</td>\n",
       "      <td>TURK TELEKOM</td>\n",
       "      <td>Redmi</td>\n",
       "      <td>-2.561455</td>\n",
       "      <td>2.061736</td>\n",
       "      <td>-0.184511</td>\n",
       "      <td>...</td>\n",
       "      <td>1.673868</td>\n",
       "      <td>0.631790</td>\n",
       "      <td>1.293131</td>\n",
       "      <td>-2.230909</td>\n",
       "      <td>-2.383524</td>\n",
       "      <td>19</td>\n",
       "      <td>61</td>\n",
       "      <td>[0, 1, 0, 0, 0, 0, 0, 0, 0]</td>\n",
       "      <td>[0, 0, 0, 0, 0, 0, 0, 1, 0]</td>\n",
       "      <td>[0, 0, 0, 1, 0, 0, 0, 0, 0]</td>\n",
       "    </tr>\n",
       "    <tr>\n",
       "      <th>3</th>\n",
       "      <td>f2d2b25073ccc298eced86897</td>\n",
       "      <td>10</td>\n",
       "      <td>3532.544</td>\n",
       "      <td>154.509</td>\n",
       "      <td>64.724</td>\n",
       "      <td>TURKCELL</td>\n",
       "      <td>samsung</td>\n",
       "      <td>-2.529918</td>\n",
       "      <td>3.358050</td>\n",
       "      <td>-0.851366</td>\n",
       "      <td>...</td>\n",
       "      <td>1.863495</td>\n",
       "      <td>0.213170</td>\n",
       "      <td>1.029710</td>\n",
       "      <td>-1.142185</td>\n",
       "      <td>-4.466191</td>\n",
       "      <td>2</td>\n",
       "      <td>41</td>\n",
       "      <td>[0, 0, 0, 0, 0, 1, 0, 0, 0]</td>\n",
       "      <td>[0, 1, 0, 0, 0, 0, 0, 0, 0]</td>\n",
       "      <td>[1, 0, 0, 0, 0, 0, 0, 0, 0]</td>\n",
       "    </tr>\n",
       "    <tr>\n",
       "      <th>4</th>\n",
       "      <td>7818c92a58af0f2cb7c361738</td>\n",
       "      <td>10</td>\n",
       "      <td>3344.192</td>\n",
       "      <td>787.896</td>\n",
       "      <td>715.115</td>\n",
       "      <td>VODAFONE TR</td>\n",
       "      <td>samsung</td>\n",
       "      <td>-2.922361</td>\n",
       "      <td>2.096124</td>\n",
       "      <td>0.060796</td>\n",
       "      <td>...</td>\n",
       "      <td>1.024499</td>\n",
       "      <td>-0.186423</td>\n",
       "      <td>-0.061626</td>\n",
       "      <td>-1.462175</td>\n",
       "      <td>-2.371206</td>\n",
       "      <td>23</td>\n",
       "      <td>85</td>\n",
       "      <td>[0, 0, 0, 0, 0, 1, 0, 0, 0]</td>\n",
       "      <td>[0, 1, 0, 0, 0, 0, 0, 0, 0]</td>\n",
       "      <td>[0, 0, 0, 0, 0, 0, 0, 1, 0]</td>\n",
       "    </tr>\n",
       "  </tbody>\n",
       "</table>\n",
       "<p>5 rows × 60 columns</p>\n",
       "</div>"
      ],
      "text/plain": [
       "                          id  month  n_seconds_1  n_seconds_2  n_seconds_3  \\\n",
       "0  5beefd4d2bf4a4767e0df8108     10     5245.571      981.182      205.948   \n",
       "1  867285b116c063d5a8482f5be     10     5184.876      557.650      487.587   \n",
       "2  c82a7cbd2e00d9b66c06bcadc     10     3835.618     3275.128       43.806   \n",
       "3  f2d2b25073ccc298eced86897     10     3532.544      154.509       64.724   \n",
       "4  7818c92a58af0f2cb7c361738     10     3344.192      787.896      715.115   \n",
       "\n",
       "        carrier devicebrand  feature_0  feature_1  feature_2  ...  feature_43  \\\n",
       "0   VODAFONE TR       Apple  -1.197737   1.113360  -1.123334  ...    2.645719   \n",
       "1      TURKCELL     samsung  -2.336352   2.567766  -0.494908  ...   -0.021547   \n",
       "2  TURK TELEKOM       Redmi  -2.561455   2.061736  -0.184511  ...    1.673868   \n",
       "3      TURKCELL     samsung  -2.529918   3.358050  -0.851366  ...    1.863495   \n",
       "4   VODAFONE TR     samsung  -2.922361   2.096124   0.060796  ...    1.024499   \n",
       "\n",
       "   feature_44  feature_45  feature_46  feature_47  feature_48  feature_49  \\\n",
       "0   -1.023478    1.658986   -1.559406   -2.161336          30          58   \n",
       "1   -0.195770    2.775513   -0.318980   -4.291473          21          45   \n",
       "2    0.631790    1.293131   -2.230909   -2.383524          19          61   \n",
       "3    0.213170    1.029710   -1.142185   -4.466191           2          41   \n",
       "4   -0.186423   -0.061626   -1.462175   -2.371206          23          85   \n",
       "\n",
       "                    first_menu                  second_menu  \\\n",
       "0  [0, 1, 0, 0, 0, 0, 0, 0, 0]  [0, 0, 0, 1, 0, 0, 0, 0, 0]   \n",
       "1  [0, 0, 0, 0, 0, 0, 1, 0, 0]  [0, 0, 0, 0, 0, 0, 0, 1, 0]   \n",
       "2  [0, 1, 0, 0, 0, 0, 0, 0, 0]  [0, 0, 0, 0, 0, 0, 0, 1, 0]   \n",
       "3  [0, 0, 0, 0, 0, 1, 0, 0, 0]  [0, 1, 0, 0, 0, 0, 0, 0, 0]   \n",
       "4  [0, 0, 0, 0, 0, 1, 0, 0, 0]  [0, 1, 0, 0, 0, 0, 0, 0, 0]   \n",
       "\n",
       "                    third_menu  \n",
       "0  [0, 0, 0, 0, 1, 0, 0, 0, 0]  \n",
       "1  [0, 0, 0, 1, 0, 0, 0, 0, 0]  \n",
       "2  [0, 0, 0, 1, 0, 0, 0, 0, 0]  \n",
       "3  [1, 0, 0, 0, 0, 0, 0, 0, 0]  \n",
       "4  [0, 0, 0, 0, 0, 0, 0, 1, 0]  \n",
       "\n",
       "[5 rows x 60 columns]"
      ]
     },
     "execution_count": 123,
     "metadata": {},
     "output_type": "execute_result"
    }
   ],
   "source": [
    "new_data.head()"
   ]
  },
  {
   "cell_type": "code",
   "execution_count": 22,
   "id": "a3568702",
   "metadata": {},
   "outputs": [],
   "source": [
    "new_data[\"first_menu\"] = transformed_data_first\n",
    "new_data[\"first_menu\"] = transformed_data_second\n",
    "new_data[\"third_menu\"] = transformed_data_third"
   ]
  },
  {
   "cell_type": "code",
   "execution_count": 23,
   "id": "fe178bf2",
   "metadata": {},
   "outputs": [],
   "source": [
    "new_data[\"target\"] = (new_data[\"first_menu\"] | new_data[\"second_menu\"] | new_data[\"third_menu\"])"
   ]
  },
  {
   "cell_type": "code",
   "execution_count": 24,
   "id": "d8c52305",
   "metadata": {},
   "outputs": [
    {
     "data": {
      "text/html": [
       "<div>\n",
       "<style scoped>\n",
       "    .dataframe tbody tr th:only-of-type {\n",
       "        vertical-align: middle;\n",
       "    }\n",
       "\n",
       "    .dataframe tbody tr th {\n",
       "        vertical-align: top;\n",
       "    }\n",
       "\n",
       "    .dataframe thead th {\n",
       "        text-align: right;\n",
       "    }\n",
       "</style>\n",
       "<table border=\"1\" class=\"dataframe\">\n",
       "  <thead>\n",
       "    <tr style=\"text-align: right;\">\n",
       "      <th></th>\n",
       "      <th>id</th>\n",
       "      <th>month</th>\n",
       "      <th>n_seconds_1</th>\n",
       "      <th>n_seconds_2</th>\n",
       "      <th>n_seconds_3</th>\n",
       "      <th>carrier</th>\n",
       "      <th>devicebrand</th>\n",
       "      <th>feature_0</th>\n",
       "      <th>feature_1</th>\n",
       "      <th>feature_2</th>\n",
       "      <th>...</th>\n",
       "      <th>feature_44</th>\n",
       "      <th>feature_45</th>\n",
       "      <th>feature_46</th>\n",
       "      <th>feature_47</th>\n",
       "      <th>feature_48</th>\n",
       "      <th>feature_49</th>\n",
       "      <th>first_menu</th>\n",
       "      <th>second_menu</th>\n",
       "      <th>third_menu</th>\n",
       "      <th>target</th>\n",
       "    </tr>\n",
       "  </thead>\n",
       "  <tbody>\n",
       "    <tr>\n",
       "      <th>0</th>\n",
       "      <td>5beefd4d2bf4a4767e0df8108</td>\n",
       "      <td>10</td>\n",
       "      <td>5245.571</td>\n",
       "      <td>981.182</td>\n",
       "      <td>205.948</td>\n",
       "      <td>VODAFONE TR</td>\n",
       "      <td>Apple</td>\n",
       "      <td>-1.197737</td>\n",
       "      <td>1.113360</td>\n",
       "      <td>-1.123334</td>\n",
       "      <td>...</td>\n",
       "      <td>-1.023478</td>\n",
       "      <td>1.658986</td>\n",
       "      <td>-1.559406</td>\n",
       "      <td>-2.161336</td>\n",
       "      <td>30</td>\n",
       "      <td>58</td>\n",
       "      <td>0</td>\n",
       "      <td>0</td>\n",
       "      <td>0</td>\n",
       "      <td>0</td>\n",
       "    </tr>\n",
       "    <tr>\n",
       "      <th>1</th>\n",
       "      <td>867285b116c063d5a8482f5be</td>\n",
       "      <td>10</td>\n",
       "      <td>5184.876</td>\n",
       "      <td>557.650</td>\n",
       "      <td>487.587</td>\n",
       "      <td>TURKCELL</td>\n",
       "      <td>samsung</td>\n",
       "      <td>-2.336352</td>\n",
       "      <td>2.567766</td>\n",
       "      <td>-0.494908</td>\n",
       "      <td>...</td>\n",
       "      <td>-0.195770</td>\n",
       "      <td>2.775513</td>\n",
       "      <td>-0.318980</td>\n",
       "      <td>-4.291473</td>\n",
       "      <td>21</td>\n",
       "      <td>45</td>\n",
       "      <td>0</td>\n",
       "      <td>0</td>\n",
       "      <td>0</td>\n",
       "      <td>0</td>\n",
       "    </tr>\n",
       "    <tr>\n",
       "      <th>2</th>\n",
       "      <td>c82a7cbd2e00d9b66c06bcadc</td>\n",
       "      <td>10</td>\n",
       "      <td>3835.618</td>\n",
       "      <td>3275.128</td>\n",
       "      <td>43.806</td>\n",
       "      <td>TURK TELEKOM</td>\n",
       "      <td>Redmi</td>\n",
       "      <td>-2.561455</td>\n",
       "      <td>2.061736</td>\n",
       "      <td>-0.184511</td>\n",
       "      <td>...</td>\n",
       "      <td>0.631790</td>\n",
       "      <td>1.293131</td>\n",
       "      <td>-2.230909</td>\n",
       "      <td>-2.383524</td>\n",
       "      <td>19</td>\n",
       "      <td>61</td>\n",
       "      <td>0</td>\n",
       "      <td>0</td>\n",
       "      <td>0</td>\n",
       "      <td>0</td>\n",
       "    </tr>\n",
       "    <tr>\n",
       "      <th>3</th>\n",
       "      <td>f2d2b25073ccc298eced86897</td>\n",
       "      <td>10</td>\n",
       "      <td>3532.544</td>\n",
       "      <td>154.509</td>\n",
       "      <td>64.724</td>\n",
       "      <td>TURKCELL</td>\n",
       "      <td>samsung</td>\n",
       "      <td>-2.529918</td>\n",
       "      <td>3.358050</td>\n",
       "      <td>-0.851366</td>\n",
       "      <td>...</td>\n",
       "      <td>0.213170</td>\n",
       "      <td>1.029710</td>\n",
       "      <td>-1.142185</td>\n",
       "      <td>-4.466191</td>\n",
       "      <td>2</td>\n",
       "      <td>41</td>\n",
       "      <td>0</td>\n",
       "      <td>0</td>\n",
       "      <td>1</td>\n",
       "      <td>1</td>\n",
       "    </tr>\n",
       "    <tr>\n",
       "      <th>4</th>\n",
       "      <td>7818c92a58af0f2cb7c361738</td>\n",
       "      <td>10</td>\n",
       "      <td>3344.192</td>\n",
       "      <td>787.896</td>\n",
       "      <td>715.115</td>\n",
       "      <td>VODAFONE TR</td>\n",
       "      <td>samsung</td>\n",
       "      <td>-2.922361</td>\n",
       "      <td>2.096124</td>\n",
       "      <td>0.060796</td>\n",
       "      <td>...</td>\n",
       "      <td>-0.186423</td>\n",
       "      <td>-0.061626</td>\n",
       "      <td>-1.462175</td>\n",
       "      <td>-2.371206</td>\n",
       "      <td>23</td>\n",
       "      <td>85</td>\n",
       "      <td>0</td>\n",
       "      <td>0</td>\n",
       "      <td>0</td>\n",
       "      <td>0</td>\n",
       "    </tr>\n",
       "  </tbody>\n",
       "</table>\n",
       "<p>5 rows × 61 columns</p>\n",
       "</div>"
      ],
      "text/plain": [
       "                          id  month  n_seconds_1  n_seconds_2  n_seconds_3  \\\n",
       "0  5beefd4d2bf4a4767e0df8108     10     5245.571      981.182      205.948   \n",
       "1  867285b116c063d5a8482f5be     10     5184.876      557.650      487.587   \n",
       "2  c82a7cbd2e00d9b66c06bcadc     10     3835.618     3275.128       43.806   \n",
       "3  f2d2b25073ccc298eced86897     10     3532.544      154.509       64.724   \n",
       "4  7818c92a58af0f2cb7c361738     10     3344.192      787.896      715.115   \n",
       "\n",
       "        carrier devicebrand  feature_0  feature_1  feature_2  ...  feature_44  \\\n",
       "0   VODAFONE TR       Apple  -1.197737   1.113360  -1.123334  ...   -1.023478   \n",
       "1      TURKCELL     samsung  -2.336352   2.567766  -0.494908  ...   -0.195770   \n",
       "2  TURK TELEKOM       Redmi  -2.561455   2.061736  -0.184511  ...    0.631790   \n",
       "3      TURKCELL     samsung  -2.529918   3.358050  -0.851366  ...    0.213170   \n",
       "4   VODAFONE TR     samsung  -2.922361   2.096124   0.060796  ...   -0.186423   \n",
       "\n",
       "   feature_45  feature_46  feature_47  feature_48  feature_49  first_menu  \\\n",
       "0    1.658986   -1.559406   -2.161336          30          58           0   \n",
       "1    2.775513   -0.318980   -4.291473          21          45           0   \n",
       "2    1.293131   -2.230909   -2.383524          19          61           0   \n",
       "3    1.029710   -1.142185   -4.466191           2          41           0   \n",
       "4   -0.061626   -1.462175   -2.371206          23          85           0   \n",
       "\n",
       "   second_menu  third_menu  target  \n",
       "0            0           0       0  \n",
       "1            0           0       0  \n",
       "2            0           0       0  \n",
       "3            0           1       1  \n",
       "4            0           0       0  \n",
       "\n",
       "[5 rows x 61 columns]"
      ]
     },
     "execution_count": 24,
     "metadata": {},
     "output_type": "execute_result"
    }
   ],
   "source": [
    "new_data.head()"
   ]
  },
  {
   "cell_type": "code",
   "execution_count": null,
   "id": "b2483f3dec833dd9",
   "metadata": {
    "ExecuteTime": {
     "end_time": "2023-09-28T15:42:16.888391600Z",
     "start_time": "2023-09-28T15:42:16.838758800Z"
    },
    "collapsed": false
   },
   "outputs": [],
   "source": [
    "num_cols"
   ]
  },
  {
   "cell_type": "code",
   "execution_count": 24,
   "id": "69d03a7738ddf736",
   "metadata": {
    "ExecuteTime": {
     "end_time": "2023-09-28T15:43:28.804575400Z",
     "start_time": "2023-09-28T15:43:28.743817700Z"
    },
    "collapsed": false
   },
   "outputs": [
    {
     "data": {
      "text/plain": [
       "['id', 'carrier', 'devicebrand', 'target']"
      ]
     },
     "execution_count": 24,
     "metadata": {},
     "output_type": "execute_result"
    }
   ],
   "source": [
    "cat_but_car"
   ]
  },
  {
   "cell_type": "code",
   "execution_count": 25,
   "id": "80d059b82bcd80b4",
   "metadata": {
    "ExecuteTime": {
     "end_time": "2023-09-28T15:43:58.793562400Z",
     "start_time": "2023-09-28T15:43:58.727865800Z"
    },
    "collapsed": false
   },
   "outputs": [
    {
     "data": {
      "text/plain": [
       "80478"
      ]
     },
     "execution_count": 25,
     "metadata": {},
     "output_type": "execute_result"
    }
   ],
   "source": [
    "data[\"id\"].nunique()"
   ]
  },
  {
   "cell_type": "code",
   "execution_count": 26,
   "id": "62449dff4276b48e",
   "metadata": {
    "ExecuteTime": {
     "end_time": "2023-09-28T15:44:14.910301500Z",
     "start_time": "2023-09-28T15:44:14.854408600Z"
    },
    "collapsed": false
   },
   "outputs": [
    {
     "data": {
      "text/plain": [
       "64"
      ]
     },
     "execution_count": 26,
     "metadata": {},
     "output_type": "execute_result"
    }
   ],
   "source": [
    "data[\"devicebrand\"].nunique()"
   ]
  },
  {
   "cell_type": "code",
   "execution_count": 7,
   "id": "4f64dcd8",
   "metadata": {},
   "outputs": [
    {
     "data": {
      "text/plain": [
       "array(['Apple', 'samsung', 'Redmi', 'HUAWEI', 'POCO', 'OPPO', 'Sony',\n",
       "       'vivo', 'asus', 'gm', 'Alcatel', 'xiaomi', 'reeder', 'HONOR',\n",
       "       'OMIX', 'Lenovo', 'realme', 'Meizu', 'TCL', 'GM', 'Vestel',\n",
       "       'TECNO', 'lge', 'Casper', 'CASPER', 'motorola', 'OnePlus', 'htc',\n",
       "       'Turk_Telekom', 'Nokia', 'Ulefone', 'google', 'HIKING', 'Reeder',\n",
       "       'Trident', 'ZTE', 'generalmobile', 'blackberry', 'Elephone',\n",
       "       'Hytera', 'Blackview', 'DOOGEE', 'SuperD', 'OUKITEL', 'Infinix',\n",
       "       'Vodafone', 'Realme', 'UMIDIGI', 'nubia', 'Huawei', 'meizu',\n",
       "       'Nothing', 'DIJITSU', 'HTC', 'HiKING', 'TURKCELL', 'Fairphone',\n",
       "       'iBRIT', 'KAAN', 'Cat', 'HOMETECH', 'WIKO', 'Gigaset',\n",
       "       'blackshark'], dtype=object)"
      ]
     },
     "execution_count": 7,
     "metadata": {},
     "output_type": "execute_result"
    }
   ],
   "source": [
    "data[\"devicebrand\"].unique()"
   ]
  },
  {
   "cell_type": "code",
   "execution_count": 27,
   "id": "92509f61422e86ae",
   "metadata": {
    "ExecuteTime": {
     "end_time": "2023-09-28T15:44:28.119599100Z",
     "start_time": "2023-09-28T15:44:28.071719600Z"
    },
    "collapsed": false
   },
   "outputs": [
    {
     "data": {
      "text/plain": [
       "112"
      ]
     },
     "execution_count": 27,
     "metadata": {},
     "output_type": "execute_result"
    }
   ],
   "source": [
    "data[\"target\"].nunique()"
   ]
  },
  {
   "cell_type": "code",
   "execution_count": null,
   "id": "eeebd8d0912542dc",
   "metadata": {
    "collapsed": false
   },
   "outputs": [],
   "source": []
  }
 ],
 "metadata": {
  "kernelspec": {
   "display_name": "Python 3",
   "language": "python",
   "name": "python3"
  },
  "language_info": {
   "codemirror_mode": {
    "name": "ipython",
    "version": 3
   },
   "file_extension": ".py",
   "mimetype": "text/x-python",
   "name": "python",
   "nbconvert_exporter": "python",
   "pygments_lexer": "ipython3",
   "version": "3.10.11"
  }
 },
 "nbformat": 4,
 "nbformat_minor": 5
}
